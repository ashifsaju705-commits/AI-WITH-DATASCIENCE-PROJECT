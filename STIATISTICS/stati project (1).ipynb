{
 "cells": [
  {
   "cell_type": "code",
   "execution_count": 1,
   "id": "68271d41-1cf7-46ed-aff8-7828822f6d57",
   "metadata": {},
   "outputs": [],
   "source": [
    "import pandas as pd\n",
    "import numpy as np                                                   \n",
    "import matplotlib.pyplot as plt\n",
    "import seaborn as sns         \n",
    "import statistics as stat \n",
    "import scipy.stats as stats       \n",
    "from statsmodels.stats.weightstats import ztest \n",
    "from scipy.stats import ttest_ind                 \n",
    "from scipy.stats import chi2_contingency            \n",
    "from scipy.stats import f_oneway                \n",
    "from scipy.stats import pearsonr, spearmanr     \n",
    "from sklearn.preprocessing import LabelEncoder, StandardScaler  \n",
    "from sklearn.model_selection import train_test_split \n",
    "from sklearn.linear_model import LinearRegression   \n",
    "import warnings\n",
    "warnings.filterwarnings('ignore')                "
   ]
  },
  {
   "cell_type": "code",
   "execution_count": 2,
   "id": "f7858b5d-dd18-4b1d-bda0-61c622b0a95f",
   "metadata": {},
   "outputs": [],
   "source": [
    "data = pd.read_csv(r\"C:\\Users\\User\\OneDrive\\archive (32)\\StudentsPerformance.csv\")"
   ]
  },
  {
   "cell_type": "code",
   "execution_count": 3,
   "id": "a8293aa9-fc60-4902-9834-8478721f72c7",
   "metadata": {},
   "outputs": [
    {
     "data": {
      "text/html": [
       "<div>\n",
       "<style scoped>\n",
       "    .dataframe tbody tr th:only-of-type {\n",
       "        vertical-align: middle;\n",
       "    }\n",
       "\n",
       "    .dataframe tbody tr th {\n",
       "        vertical-align: top;\n",
       "    }\n",
       "\n",
       "    .dataframe thead th {\n",
       "        text-align: right;\n",
       "    }\n",
       "</style>\n",
       "<table border=\"1\" class=\"dataframe\">\n",
       "  <thead>\n",
       "    <tr style=\"text-align: right;\">\n",
       "      <th></th>\n",
       "      <th>gender</th>\n",
       "      <th>race/ethnicity</th>\n",
       "      <th>parental level of education</th>\n",
       "      <th>lunch</th>\n",
       "      <th>test preparation course</th>\n",
       "      <th>math score</th>\n",
       "      <th>reading score</th>\n",
       "      <th>writing score</th>\n",
       "    </tr>\n",
       "  </thead>\n",
       "  <tbody>\n",
       "    <tr>\n",
       "      <th>0</th>\n",
       "      <td>female</td>\n",
       "      <td>group B</td>\n",
       "      <td>bachelor's degree</td>\n",
       "      <td>standard</td>\n",
       "      <td>none</td>\n",
       "      <td>72</td>\n",
       "      <td>72</td>\n",
       "      <td>74</td>\n",
       "    </tr>\n",
       "    <tr>\n",
       "      <th>1</th>\n",
       "      <td>female</td>\n",
       "      <td>group C</td>\n",
       "      <td>some college</td>\n",
       "      <td>standard</td>\n",
       "      <td>completed</td>\n",
       "      <td>69</td>\n",
       "      <td>90</td>\n",
       "      <td>88</td>\n",
       "    </tr>\n",
       "    <tr>\n",
       "      <th>2</th>\n",
       "      <td>female</td>\n",
       "      <td>group B</td>\n",
       "      <td>master's degree</td>\n",
       "      <td>standard</td>\n",
       "      <td>none</td>\n",
       "      <td>90</td>\n",
       "      <td>95</td>\n",
       "      <td>93</td>\n",
       "    </tr>\n",
       "    <tr>\n",
       "      <th>3</th>\n",
       "      <td>male</td>\n",
       "      <td>group A</td>\n",
       "      <td>associate's degree</td>\n",
       "      <td>free/reduced</td>\n",
       "      <td>none</td>\n",
       "      <td>47</td>\n",
       "      <td>57</td>\n",
       "      <td>44</td>\n",
       "    </tr>\n",
       "    <tr>\n",
       "      <th>4</th>\n",
       "      <td>male</td>\n",
       "      <td>group C</td>\n",
       "      <td>some college</td>\n",
       "      <td>standard</td>\n",
       "      <td>none</td>\n",
       "      <td>76</td>\n",
       "      <td>78</td>\n",
       "      <td>75</td>\n",
       "    </tr>\n",
       "    <tr>\n",
       "      <th>5</th>\n",
       "      <td>female</td>\n",
       "      <td>group B</td>\n",
       "      <td>associate's degree</td>\n",
       "      <td>standard</td>\n",
       "      <td>none</td>\n",
       "      <td>71</td>\n",
       "      <td>83</td>\n",
       "      <td>78</td>\n",
       "    </tr>\n",
       "    <tr>\n",
       "      <th>6</th>\n",
       "      <td>female</td>\n",
       "      <td>group B</td>\n",
       "      <td>some college</td>\n",
       "      <td>standard</td>\n",
       "      <td>completed</td>\n",
       "      <td>88</td>\n",
       "      <td>95</td>\n",
       "      <td>92</td>\n",
       "    </tr>\n",
       "    <tr>\n",
       "      <th>7</th>\n",
       "      <td>male</td>\n",
       "      <td>group B</td>\n",
       "      <td>some college</td>\n",
       "      <td>free/reduced</td>\n",
       "      <td>none</td>\n",
       "      <td>40</td>\n",
       "      <td>43</td>\n",
       "      <td>39</td>\n",
       "    </tr>\n",
       "    <tr>\n",
       "      <th>8</th>\n",
       "      <td>male</td>\n",
       "      <td>group D</td>\n",
       "      <td>high school</td>\n",
       "      <td>free/reduced</td>\n",
       "      <td>completed</td>\n",
       "      <td>64</td>\n",
       "      <td>64</td>\n",
       "      <td>67</td>\n",
       "    </tr>\n",
       "    <tr>\n",
       "      <th>9</th>\n",
       "      <td>female</td>\n",
       "      <td>group B</td>\n",
       "      <td>high school</td>\n",
       "      <td>free/reduced</td>\n",
       "      <td>none</td>\n",
       "      <td>38</td>\n",
       "      <td>60</td>\n",
       "      <td>50</td>\n",
       "    </tr>\n",
       "  </tbody>\n",
       "</table>\n",
       "</div>"
      ],
      "text/plain": [
       "   gender race/ethnicity parental level of education         lunch  \\\n",
       "0  female        group B           bachelor's degree      standard   \n",
       "1  female        group C                some college      standard   \n",
       "2  female        group B             master's degree      standard   \n",
       "3    male        group A          associate's degree  free/reduced   \n",
       "4    male        group C                some college      standard   \n",
       "5  female        group B          associate's degree      standard   \n",
       "6  female        group B                some college      standard   \n",
       "7    male        group B                some college  free/reduced   \n",
       "8    male        group D                 high school  free/reduced   \n",
       "9  female        group B                 high school  free/reduced   \n",
       "\n",
       "  test preparation course  math score  reading score  writing score  \n",
       "0                    none          72             72             74  \n",
       "1               completed          69             90             88  \n",
       "2                    none          90             95             93  \n",
       "3                    none          47             57             44  \n",
       "4                    none          76             78             75  \n",
       "5                    none          71             83             78  \n",
       "6               completed          88             95             92  \n",
       "7                    none          40             43             39  \n",
       "8               completed          64             64             67  \n",
       "9                    none          38             60             50  "
      ]
     },
     "execution_count": 3,
     "metadata": {},
     "output_type": "execute_result"
    }
   ],
   "source": [
    "data.head(10)"
   ]
  },
  {
   "cell_type": "code",
   "execution_count": 4,
   "id": "83a1dfb6-560c-4b56-bec4-cb970e277a13",
   "metadata": {},
   "outputs": [
    {
     "data": {
      "text/html": [
       "<div>\n",
       "<style scoped>\n",
       "    .dataframe tbody tr th:only-of-type {\n",
       "        vertical-align: middle;\n",
       "    }\n",
       "\n",
       "    .dataframe tbody tr th {\n",
       "        vertical-align: top;\n",
       "    }\n",
       "\n",
       "    .dataframe thead th {\n",
       "        text-align: right;\n",
       "    }\n",
       "</style>\n",
       "<table border=\"1\" class=\"dataframe\">\n",
       "  <thead>\n",
       "    <tr style=\"text-align: right;\">\n",
       "      <th></th>\n",
       "      <th>gender</th>\n",
       "      <th>race/ethnicity</th>\n",
       "      <th>parental level of education</th>\n",
       "      <th>lunch</th>\n",
       "      <th>test preparation course</th>\n",
       "      <th>math score</th>\n",
       "      <th>reading score</th>\n",
       "      <th>writing score</th>\n",
       "    </tr>\n",
       "  </thead>\n",
       "  <tbody>\n",
       "    <tr>\n",
       "      <th>997</th>\n",
       "      <td>female</td>\n",
       "      <td>group C</td>\n",
       "      <td>high school</td>\n",
       "      <td>free/reduced</td>\n",
       "      <td>completed</td>\n",
       "      <td>59</td>\n",
       "      <td>71</td>\n",
       "      <td>65</td>\n",
       "    </tr>\n",
       "    <tr>\n",
       "      <th>998</th>\n",
       "      <td>female</td>\n",
       "      <td>group D</td>\n",
       "      <td>some college</td>\n",
       "      <td>standard</td>\n",
       "      <td>completed</td>\n",
       "      <td>68</td>\n",
       "      <td>78</td>\n",
       "      <td>77</td>\n",
       "    </tr>\n",
       "    <tr>\n",
       "      <th>999</th>\n",
       "      <td>female</td>\n",
       "      <td>group D</td>\n",
       "      <td>some college</td>\n",
       "      <td>free/reduced</td>\n",
       "      <td>none</td>\n",
       "      <td>77</td>\n",
       "      <td>86</td>\n",
       "      <td>86</td>\n",
       "    </tr>\n",
       "  </tbody>\n",
       "</table>\n",
       "</div>"
      ],
      "text/plain": [
       "     gender race/ethnicity parental level of education         lunch  \\\n",
       "997  female        group C                 high school  free/reduced   \n",
       "998  female        group D                some college      standard   \n",
       "999  female        group D                some college  free/reduced   \n",
       "\n",
       "    test preparation course  math score  reading score  writing score  \n",
       "997               completed          59             71             65  \n",
       "998               completed          68             78             77  \n",
       "999                    none          77             86             86  "
      ]
     },
     "execution_count": 4,
     "metadata": {},
     "output_type": "execute_result"
    }
   ],
   "source": [
    "data.tail(3)"
   ]
  },
  {
   "cell_type": "code",
   "execution_count": 5,
   "id": "cf804867-eb44-4080-a8e3-702f432cd1bb",
   "metadata": {},
   "outputs": [
    {
     "data": {
      "text/html": [
       "<div>\n",
       "<style scoped>\n",
       "    .dataframe tbody tr th:only-of-type {\n",
       "        vertical-align: middle;\n",
       "    }\n",
       "\n",
       "    .dataframe tbody tr th {\n",
       "        vertical-align: top;\n",
       "    }\n",
       "\n",
       "    .dataframe thead th {\n",
       "        text-align: right;\n",
       "    }\n",
       "</style>\n",
       "<table border=\"1\" class=\"dataframe\">\n",
       "  <thead>\n",
       "    <tr style=\"text-align: right;\">\n",
       "      <th></th>\n",
       "      <th>gender</th>\n",
       "      <th>race/ethnicity</th>\n",
       "      <th>parental level of education</th>\n",
       "      <th>lunch</th>\n",
       "      <th>test preparation course</th>\n",
       "      <th>math score</th>\n",
       "      <th>reading score</th>\n",
       "      <th>writing score</th>\n",
       "    </tr>\n",
       "  </thead>\n",
       "  <tbody>\n",
       "    <tr>\n",
       "      <th>791</th>\n",
       "      <td>female</td>\n",
       "      <td>group D</td>\n",
       "      <td>some college</td>\n",
       "      <td>free/reduced</td>\n",
       "      <td>none</td>\n",
       "      <td>60</td>\n",
       "      <td>66</td>\n",
       "      <td>70</td>\n",
       "    </tr>\n",
       "    <tr>\n",
       "      <th>75</th>\n",
       "      <td>male</td>\n",
       "      <td>group B</td>\n",
       "      <td>associate's degree</td>\n",
       "      <td>free/reduced</td>\n",
       "      <td>none</td>\n",
       "      <td>44</td>\n",
       "      <td>41</td>\n",
       "      <td>38</td>\n",
       "    </tr>\n",
       "    <tr>\n",
       "      <th>98</th>\n",
       "      <td>female</td>\n",
       "      <td>group D</td>\n",
       "      <td>some college</td>\n",
       "      <td>free/reduced</td>\n",
       "      <td>none</td>\n",
       "      <td>58</td>\n",
       "      <td>67</td>\n",
       "      <td>62</td>\n",
       "    </tr>\n",
       "    <tr>\n",
       "      <th>646</th>\n",
       "      <td>female</td>\n",
       "      <td>group D</td>\n",
       "      <td>associate's degree</td>\n",
       "      <td>standard</td>\n",
       "      <td>none</td>\n",
       "      <td>59</td>\n",
       "      <td>70</td>\n",
       "      <td>65</td>\n",
       "    </tr>\n",
       "    <tr>\n",
       "      <th>767</th>\n",
       "      <td>male</td>\n",
       "      <td>group B</td>\n",
       "      <td>high school</td>\n",
       "      <td>standard</td>\n",
       "      <td>completed</td>\n",
       "      <td>76</td>\n",
       "      <td>62</td>\n",
       "      <td>60</td>\n",
       "    </tr>\n",
       "  </tbody>\n",
       "</table>\n",
       "</div>"
      ],
      "text/plain": [
       "     gender race/ethnicity parental level of education         lunch  \\\n",
       "791  female        group D                some college  free/reduced   \n",
       "75     male        group B          associate's degree  free/reduced   \n",
       "98   female        group D                some college  free/reduced   \n",
       "646  female        group D          associate's degree      standard   \n",
       "767    male        group B                 high school      standard   \n",
       "\n",
       "    test preparation course  math score  reading score  writing score  \n",
       "791                    none          60             66             70  \n",
       "75                     none          44             41             38  \n",
       "98                     none          58             67             62  \n",
       "646                    none          59             70             65  \n",
       "767               completed          76             62             60  "
      ]
     },
     "execution_count": 5,
     "metadata": {},
     "output_type": "execute_result"
    }
   ],
   "source": [
    "data.sample(5)"
   ]
  },
  {
   "cell_type": "code",
   "execution_count": 6,
   "id": "3fdfd9a9-95a2-41a2-80be-d2c45e595410",
   "metadata": {},
   "outputs": [
    {
     "data": {
      "text/plain": [
       "(1000, 8)"
      ]
     },
     "execution_count": 6,
     "metadata": {},
     "output_type": "execute_result"
    }
   ],
   "source": [
    "data.shape"
   ]
  },
  {
   "cell_type": "code",
   "execution_count": 7,
   "id": "ec46e72e-fe0b-4a51-b8dc-4fcf6dcf9a0e",
   "metadata": {},
   "outputs": [
    {
     "data": {
      "text/plain": [
       "8000"
      ]
     },
     "execution_count": 7,
     "metadata": {},
     "output_type": "execute_result"
    }
   ],
   "source": [
    "data.size"
   ]
  },
  {
   "cell_type": "code",
   "execution_count": 8,
   "id": "3652ff1c-0832-4b94-aad0-0cf7d4ca94bf",
   "metadata": {},
   "outputs": [
    {
     "name": "stdout",
     "output_type": "stream",
     "text": [
      "<class 'pandas.core.frame.DataFrame'>\n",
      "RangeIndex: 1000 entries, 0 to 999\n",
      "Data columns (total 8 columns):\n",
      " #   Column                       Non-Null Count  Dtype \n",
      "---  ------                       --------------  ----- \n",
      " 0   gender                       1000 non-null   object\n",
      " 1   race/ethnicity               1000 non-null   object\n",
      " 2   parental level of education  1000 non-null   object\n",
      " 3   lunch                        1000 non-null   object\n",
      " 4   test preparation course      1000 non-null   object\n",
      " 5   math score                   1000 non-null   int64 \n",
      " 6   reading score                1000 non-null   int64 \n",
      " 7   writing score                1000 non-null   int64 \n",
      "dtypes: int64(3), object(5)\n",
      "memory usage: 62.6+ KB\n"
     ]
    }
   ],
   "source": [
    "data.info()"
   ]
  },
  {
   "cell_type": "markdown",
   "id": "f96f3a0b-efe1-4e75-9c8b-f5180e5de642",
   "metadata": {},
   "source": [
    "# Data Description"
   ]
  },
  {
   "cell_type": "code",
   "execution_count": 10,
   "id": "3372c970-9315-4cdc-a72f-bca76f847705",
   "metadata": {},
   "outputs": [
    {
     "data": {
      "text/html": [
       "<div>\n",
       "<style scoped>\n",
       "    .dataframe tbody tr th:only-of-type {\n",
       "        vertical-align: middle;\n",
       "    }\n",
       "\n",
       "    .dataframe tbody tr th {\n",
       "        vertical-align: top;\n",
       "    }\n",
       "\n",
       "    .dataframe thead th {\n",
       "        text-align: right;\n",
       "    }\n",
       "</style>\n",
       "<table border=\"1\" class=\"dataframe\">\n",
       "  <thead>\n",
       "    <tr style=\"text-align: right;\">\n",
       "      <th></th>\n",
       "      <th>count</th>\n",
       "      <th>mean</th>\n",
       "      <th>std</th>\n",
       "      <th>min</th>\n",
       "      <th>25%</th>\n",
       "      <th>50%</th>\n",
       "      <th>75%</th>\n",
       "      <th>max</th>\n",
       "    </tr>\n",
       "  </thead>\n",
       "  <tbody>\n",
       "    <tr>\n",
       "      <th>math score</th>\n",
       "      <td>1000.0</td>\n",
       "      <td>66.089</td>\n",
       "      <td>15.163080</td>\n",
       "      <td>0.0</td>\n",
       "      <td>57.00</td>\n",
       "      <td>66.0</td>\n",
       "      <td>77.0</td>\n",
       "      <td>100.0</td>\n",
       "    </tr>\n",
       "    <tr>\n",
       "      <th>reading score</th>\n",
       "      <td>1000.0</td>\n",
       "      <td>69.169</td>\n",
       "      <td>14.600192</td>\n",
       "      <td>17.0</td>\n",
       "      <td>59.00</td>\n",
       "      <td>70.0</td>\n",
       "      <td>79.0</td>\n",
       "      <td>100.0</td>\n",
       "    </tr>\n",
       "    <tr>\n",
       "      <th>writing score</th>\n",
       "      <td>1000.0</td>\n",
       "      <td>68.054</td>\n",
       "      <td>15.195657</td>\n",
       "      <td>10.0</td>\n",
       "      <td>57.75</td>\n",
       "      <td>69.0</td>\n",
       "      <td>79.0</td>\n",
       "      <td>100.0</td>\n",
       "    </tr>\n",
       "  </tbody>\n",
       "</table>\n",
       "</div>"
      ],
      "text/plain": [
       "                count    mean        std   min    25%   50%   75%    max\n",
       "math score     1000.0  66.089  15.163080   0.0  57.00  66.0  77.0  100.0\n",
       "reading score  1000.0  69.169  14.600192  17.0  59.00  70.0  79.0  100.0\n",
       "writing score  1000.0  68.054  15.195657  10.0  57.75  69.0  79.0  100.0"
      ]
     },
     "execution_count": 10,
     "metadata": {},
     "output_type": "execute_result"
    }
   ],
   "source": [
    "data.describe().T"
   ]
  },
  {
   "cell_type": "markdown",
   "id": "157192ea-4db0-4b10-88a9-d822fee6005a",
   "metadata": {},
   "source": [
    "# Checking Data Type"
   ]
  },
  {
   "cell_type": "code",
   "execution_count": 12,
   "id": "8e107c98-5bde-4f48-a9a3-597bc4bafb0d",
   "metadata": {},
   "outputs": [
    {
     "data": {
      "text/plain": [
       "gender                         object\n",
       "race/ethnicity                 object\n",
       "parental level of education    object\n",
       "lunch                          object\n",
       "test preparation course        object\n",
       "math score                      int64\n",
       "reading score                   int64\n",
       "writing score                   int64\n",
       "dtype: object"
      ]
     },
     "execution_count": 12,
     "metadata": {},
     "output_type": "execute_result"
    }
   ],
   "source": [
    "data.dtypes"
   ]
  },
  {
   "cell_type": "markdown",
   "id": "bf9e4b3a-7bb9-45d6-8f01-c7a4d4eeac6f",
   "metadata": {},
   "source": [
    " # unique values\n"
   ]
  },
  {
   "cell_type": "code",
   "execution_count": 14,
   "id": "b69d4b77-c3f0-4004-9a5a-0c2e71522894",
   "metadata": {},
   "outputs": [
    {
     "data": {
      "text/plain": [
       "gender                          2\n",
       "race/ethnicity                  5\n",
       "parental level of education     6\n",
       "lunch                           2\n",
       "test preparation course         2\n",
       "math score                     81\n",
       "reading score                  72\n",
       "writing score                  77\n",
       "dtype: int64"
      ]
     },
     "execution_count": 14,
     "metadata": {},
     "output_type": "execute_result"
    }
   ],
   "source": [
    "data.nunique()"
   ]
  },
  {
   "cell_type": "code",
   "execution_count": 15,
   "id": "ebb4efb8-dc46-402a-a332-fd1caeef8e1d",
   "metadata": {},
   "outputs": [
    {
     "name": "stdout",
     "output_type": "stream",
     "text": [
      "gender\n",
      "['female' 'male']\n",
      "--------------------------------------------------\n",
      "\n",
      "\n",
      "race/ethnicity\n",
      "['group B' 'group C' 'group A' 'group D' 'group E']\n",
      "--------------------------------------------------\n",
      "\n",
      "\n",
      "parental level of education\n",
      "[\"bachelor's degree\" 'some college' \"master's degree\" \"associate's degree\"\n",
      " 'high school' 'some high school']\n",
      "--------------------------------------------------\n",
      "\n",
      "\n",
      "lunch\n",
      "['standard' 'free/reduced']\n",
      "--------------------------------------------------\n",
      "\n",
      "\n",
      "test preparation course\n",
      "['none' 'completed']\n",
      "--------------------------------------------------\n",
      "\n",
      "\n",
      "math score\n",
      "[ 72  69  90  47  76  71  88  40  64  38  58  65  78  50  18  46  54  66\n",
      "  44  74  73  67  70  62  63  56  97  81  75  57  55  53  59  82  77  33\n",
      "  52   0  79  39  45  60  61  41  49  30  80  42  27  43  68  85  98  87\n",
      "  51  99  84  91  83  89  22 100  96  94  48  35  34  86  92  37  28  24\n",
      "  26  95  36  29  32  93  19  23   8]\n",
      "--------------------------------------------------\n",
      "\n",
      "\n",
      "reading score\n",
      "[ 72  90  95  57  78  83  43  64  60  54  52  81  53  75  89  32  42  58\n",
      "  69  73  71  74  70  65  87  56  61  84  55  44  41  85  59  17  39  80\n",
      "  37  63  51  49  26  68  45  47  86  34  79  66  67  91 100  76  77  82\n",
      "  92  93  62  88  50  28  48  46  23  38  94  97  99  31  96  24  29  40]\n",
      "--------------------------------------------------\n",
      "\n",
      "\n",
      "writing score\n",
      "[ 74  88  93  44  75  78  92  39  67  50  52  43  73  70  58  86  28  46\n",
      "  61  63  53  80  72  55  65  38  82  79  83  59  57  54  68  66  62  76\n",
      "  48  42  87  49  10  34  71  37  56  41  22  81  45  36  89  47  90 100\n",
      "  64  98  51  40  84  69  33  60  85  91  77  27  94  95  19  35  32  96\n",
      "  97  99  15  30  23]\n",
      "--------------------------------------------------\n",
      "\n",
      "\n"
     ]
    }
   ],
   "source": [
    "for i in data.columns:\n",
    "    print(i)\n",
    "    print(data[i].unique())\n",
    "    print(\"-\"*50)\n",
    "    print(\"\\n\")"
   ]
  },
  {
   "cell_type": "markdown",
   "id": "bf002670-4a76-42c4-98c4-0290b1a91737",
   "metadata": {},
   "source": [
    "# DATA CLEANING AND PREPROCESSING"
   ]
  },
  {
   "cell_type": "markdown",
   "id": "20de5806-0223-4c49-893a-4c37167b71c7",
   "metadata": {},
   "source": [
    "* Assigning Categorical and Numerical Features"
   ]
  },
  {
   "cell_type": "code",
   "execution_count": 18,
   "id": "093785ec-2fae-4fc3-8604-4214fdc6c42d",
   "metadata": {},
   "outputs": [],
   "source": [
    "cat_cols = data.select_dtypes(include = ['object']).columns\n"
   ]
  },
  {
   "cell_type": "code",
   "execution_count": 19,
   "id": "1931b63f-1110-467e-a95e-d80423e8519b",
   "metadata": {},
   "outputs": [
    {
     "data": {
      "text/plain": [
       "Index(['gender', 'race/ethnicity', 'parental level of education', 'lunch',\n",
       "       'test preparation course'],\n",
       "      dtype='object')"
      ]
     },
     "execution_count": 19,
     "metadata": {},
     "output_type": "execute_result"
    }
   ],
   "source": [
    "cat_cols"
   ]
  },
  {
   "cell_type": "code",
   "execution_count": 20,
   "id": "23fd5633-eeb9-4799-a46d-120d8b80b508",
   "metadata": {},
   "outputs": [],
   "source": [
    "num_cols = data.select_dtypes(include = [np.number]).columns"
   ]
  },
  {
   "cell_type": "code",
   "execution_count": 21,
   "id": "9ea5cd02-f927-4c7d-aafc-3aacfe06c247",
   "metadata": {},
   "outputs": [
    {
     "data": {
      "text/plain": [
       "Index(['math score', 'reading score', 'writing score'], dtype='object')"
      ]
     },
     "execution_count": 21,
     "metadata": {},
     "output_type": "execute_result"
    }
   ],
   "source": [
    "num_cols"
   ]
  },
  {
   "cell_type": "markdown",
   "id": "8ac5215d-a0ab-45a4-99c0-1080ea1771fc",
   "metadata": {},
   "source": [
    "# DATA DISTRIBUTION"
   ]
  },
  {
   "cell_type": "code",
   "execution_count": 23,
   "id": "f7180fa1-36ee-4f0c-9291-79d593318327",
   "metadata": {},
   "outputs": [
    {
     "data": {
      "image/png": "[encoded data removed]",
      "text/plain": [
       "<Figure size 800x500 with 4 Axes>"
      ]
     },
     "metadata": {},
     "output_type": "display_data"
    }
   ],
   "source": [
    "data[num_cols].hist(figsize=(8,5), color='darkblue')\n",
    "\n",
    "plt.tight_layout()\n",
    "plt.show()"
   ]
  },
  {
   "cell_type": "markdown",
   "id": "3357a597-fa30-470a-bf1f-fbb9ddf52b42",
   "metadata": {},
   "source": [
    "# Missing Value Detection"
   ]
  },
  {
   "cell_type": "code",
   "execution_count": 25,
   "id": "a399f43e-aaba-4fb4-83a0-662b3c23a9fb",
   "metadata": {},
   "outputs": [
    {
     "data": {
      "text/plain": [
       "gender                         0\n",
       "race/ethnicity                 0\n",
       "parental level of education    0\n",
       "lunch                          0\n",
       "test preparation course        0\n",
       "math score                     0\n",
       "reading score                  0\n",
       "writing score                  0\n",
       "dtype: int64"
      ]
     },
     "execution_count": 25,
     "metadata": {},
     "output_type": "execute_result"
    }
   ],
   "source": [
    "data.isnull().sum()"
   ]
  },
  {
   "cell_type": "markdown",
   "id": "982ec742-f4c1-474e-ac8d-2db1ab7cce5c",
   "metadata": {},
   "source": [
    "# Checking Duplicates¶"
   ]
  },
  {
   "cell_type": "code",
   "execution_count": 27,
   "id": "60acaaba-fdca-42ae-8150-d786e4dab1ed",
   "metadata": {},
   "outputs": [
    {
     "data": {
      "text/plain": [
       "0"
      ]
     },
     "execution_count": 27,
     "metadata": {},
     "output_type": "execute_result"
    }
   ],
   "source": [
    "data.duplicated().sum()"
   ]
  },
  {
   "cell_type": "markdown",
   "id": "79a10b3b-4a14-4cb9-a64c-84b4c1b05f38",
   "metadata": {},
   "source": [
    "# EDA - Exploratory Data Analysis"
   ]
  },
  {
   "cell_type": "code",
   "execution_count": 29,
   "id": "332a5bb8-7c8e-407f-bffd-60b3f7d76212",
   "metadata": {},
   "outputs": [
    {
     "data": {
      "image/png": "[encoded data removed]",
      "text/plain": [
       "<Figure size 1500x1000 with 2 Axes>"
      ]
     },
     "metadata": {},
     "output_type": "display_data"
    }
   ],
   "source": [
    "plt.figure(figsize=(15,10))\n",
    "\n",
    "corr = data.corr(numeric_only=True)\n",
    "sns.heatmap(corr, annot=True, cmap='Blues', linewidths=0.5)\n",
    "\n",
    "plt.title(\"Understanding Numerical Feature Interactions\")\n",
    "plt.show()"
   ]
  },
  {
   "cell_type": "markdown",
   "id": "6793cbef-a762-41d5-ae56-b3c476f7d769",
   "metadata": {},
   "source": [
    "# HYPOTHESIS TESTING Z- TEST"
   ]
  },
  {
   "cell_type": "code",
   "execution_count": 31,
   "id": "f223f4ff-9bc0-42a1-9604-bae530b63bcb",
   "metadata": {},
   "outputs": [],
   "source": [
    "male_score=data[data[\"gender\"]==\"male\"][\"writing score\"]\n",
    "female_score=data[data[\"gender\"]==\"female\"][\"writing score\"]\n",
    "z_stat,p_val=ztest(male_score,female_score,value=0)"
   ]
  },
  {
   "cell_type": "code",
   "execution_count": 32,
   "id": "36f13c2d-562c-41a5-baea-b69c085501f3",
   "metadata": {},
   "outputs": [
    {
     "data": {
      "text/plain": [
       "1.8729942174175452e-23"
      ]
     },
     "execution_count": 32,
     "metadata": {},
     "output_type": "execute_result"
    }
   ],
   "source": [
    "p_val"
   ]
  },
  {
   "cell_type": "code",
   "execution_count": 33,
   "id": "3fe1ddf6-7159-404a-86d5-17fb5ad19b6e",
   "metadata": {},
   "outputs": [
    {
     "name": "stdout",
     "output_type": "stream",
     "text": [
      "null hypothesis rejected\n"
     ]
    }
   ],
   "source": [
    "if p_val<0.05:\n",
    "    print(\"null hypothesis rejected\")\n",
    "\n",
    "else:\n",
    "    print(\"null hypothesis accepted\")\n",
    "    "
   ]
  },
  {
   "cell_type": "markdown",
   "id": "d90f441f-fb08-4d82-8745-dd6e2accc2b2",
   "metadata": {},
   "source": [
    "# Visualization"
   ]
  },
  {
   "cell_type": "code",
   "execution_count": 35,
   "id": "4a18d6d7-8620-44c0-a8a2-0055c437639a",
   "metadata": {},
   "outputs": [
    {
     "data": {
      "image/png": "[encoded data removed]",
      "text/plain": [
       "<Figure size 800x500 with 1 Axes>"
      ]
     },
     "metadata": {},
     "output_type": "display_data"
    }
   ],
   "source": [
    "plt.figure(figsize=(8, 5))\n",
    "\n",
    "sns.barplot(x='gender', y='writing score', data=data, palette=['#ADD8E6', 'navy'], estimator='mean')\n",
    "\n",
    "plt.title(\"gender based on writing score \")\n",
    "plt.xlabel(\"gender\")\n",
    "plt.ylabel(\"average writing score(USD)\")\n",
    "\n",
    "plt.show()"
   ]
  },
  {
   "cell_type": "markdown",
   "id": "00ff88c3-9109-41e3-a5de-e9e609293862",
   "metadata": {},
   "source": [
    " * insight \n"
   ]
  },
  {
   "cell_type": "markdown",
   "id": "783c2934-7185-43fd-a0aa-014bdc3c369e",
   "metadata": {},
   "source": [
    "femail has more writing score"
   ]
  },
  {
   "cell_type": "markdown",
   "id": "07a7e430-9709-4a38-9574-5e55dad67110",
   "metadata": {},
   "source": [
    "# HYPOTHESIS TESTING WITH T-TEST"
   ]
  },
  {
   "cell_type": "code",
   "execution_count": 39,
   "id": "b2c5edd1-6d63-4c65-9b77-8019533d1f4e",
   "metadata": {},
   "outputs": [],
   "source": [
    "# Separate the reading scores based on lunch type\n",
    "group1 = data[data['lunch'] == 'standard']['reading score']\n",
    "group2 = data[data['lunch'] == 'free/reduced']['reading score']\n",
    "\n",
    "# Now perform the t-test\n",
    "t_stat, p_val = ttest_ind(group1, group2)\n"
   ]
  },
  {
   "cell_type": "code",
   "execution_count": 40,
   "id": "0bc31a8c-29e0-46af-afdf-c8486fb72d7f",
   "metadata": {},
   "outputs": [
    {
     "data": {
      "text/plain": [
       "2.0027966545279011e-13"
      ]
     },
     "execution_count": 40,
     "metadata": {},
     "output_type": "execute_result"
    }
   ],
   "source": [
    "p_val"
   ]
  },
  {
   "cell_type": "code",
   "execution_count": 41,
   "id": "43d1bcc9-7a9f-4a70-899e-99f681561fc8",
   "metadata": {},
   "outputs": [
    {
     "name": "stdout",
     "output_type": "stream",
     "text": [
      "null hypothesis rejected\n"
     ]
    }
   ],
   "source": [
    "if p_val < 0.05:\n",
    "    print(\"null hypothesis rejected\")\n",
    "else:\n",
    "    print(\"null hypothesis accepted\")\n",
    "    "
   ]
  },
  {
   "cell_type": "code",
   "execution_count": 42,
   "id": "a9e06e9f-9ec4-44c9-881e-51bcb553f5dc",
   "metadata": {},
   "outputs": [
    {
     "data": {
      "image/png": "[encoded data removed]",
      "text/plain": [
       "<Figure size 800x500 with 1 Axes>"
      ]
     },
     "metadata": {},
     "output_type": "display_data"
    }
   ],
   "source": [
    "plt.figure(figsize=(8, 5))\n",
    "\n",
    "sns.barplot(x='lunch', y='reading score', data=data, estimator='mean', palette=['#ADD8E6', 'navy'])\n",
    "\n",
    "plt.title(\"Average reading score based on lunch\")\n",
    "plt.xlabel(\"lunch\")\n",
    "plt.ylabel(\"Average score\")\n",
    "\n",
    "plt.show()"
   ]
  },
  {
   "cell_type": "code",
   "execution_count": null,
   "id": "704cf96f-25da-4283-9cb6-76c5d37daa27",
   "metadata": {},
   "outputs": [],
   "source": []
  },
  {
   "cell_type": "code",
   "execution_count": null,
   "id": "00fb35b8-cfa8-45bb-8c4c-036a6ff295d8",
   "metadata": {},
   "outputs": [],
   "source": []
  },
  {
   "cell_type": "markdown",
   "id": "042e2ea5-0838-44da-9fd9-537537b81982",
   "metadata": {},
   "source": [
    "# Hypothesis Testing with chi2 test"
   ]
  },
  {
   "cell_type": "code",
   "execution_count": 44,
   "id": "9a70726f-f4bc-4567-a728-2655dc9a7c7b",
   "metadata": {},
   "outputs": [
    {
     "name": "stdout",
     "output_type": "stream",
     "text": [
      "<class 'pandas.core.frame.DataFrame'>\n",
      "RangeIndex: 1000 entries, 0 to 999\n",
      "Data columns (total 8 columns):\n",
      " #   Column                       Non-Null Count  Dtype \n",
      "---  ------                       --------------  ----- \n",
      " 0   gender                       1000 non-null   object\n",
      " 1   race/ethnicity               1000 non-null   object\n",
      " 2   parental level of education  1000 non-null   object\n",
      " 3   lunch                        1000 non-null   object\n",
      " 4   test preparation course      1000 non-null   object\n",
      " 5   math score                   1000 non-null   int64 \n",
      " 6   reading score                1000 non-null   int64 \n",
      " 7   writing score                1000 non-null   int64 \n",
      "dtypes: int64(3), object(5)\n",
      "memory usage: 62.6+ KB\n"
     ]
    }
   ],
   "source": [
    "data.info()"
   ]
  },
  {
   "cell_type": "code",
   "execution_count": 45,
   "id": "d02371d3-1241-41a7-b864-4289718be713",
   "metadata": {},
   "outputs": [
    {
     "data": {
      "text/plain": [
       "array(['none', 'completed'], dtype=object)"
      ]
     },
     "execution_count": 45,
     "metadata": {},
     "output_type": "execute_result"
    }
   ],
   "source": [
    "data['test preparation course'].unique()"
   ]
  },
  {
   "cell_type": "code",
   "execution_count": 46,
   "id": "c1c7fadd-2511-4bc3-b924-1807121db8e7",
   "metadata": {},
   "outputs": [],
   "source": [
    "categorical_cols = data.select_dtypes(include=['object', 'category']).columns.tolist()\n",
    "    "
   ]
  },
  {
   "cell_type": "code",
   "execution_count": 47,
   "id": "b9e3e11b-229d-4366-aa73-21c369b58309",
   "metadata": {},
   "outputs": [
    {
     "data": {
      "text/plain": [
       "['gender',\n",
       " 'race/ethnicity',\n",
       " 'parental level of education',\n",
       " 'lunch',\n",
       " 'test preparation course']"
      ]
     },
     "execution_count": 47,
     "metadata": {},
     "output_type": "execute_result"
    }
   ],
   "source": [
    "categorical_cols"
   ]
  },
  {
   "cell_type": "code",
   "execution_count": 48,
   "id": "f720b58a-e7bf-4403-8016-cff1d53eb790",
   "metadata": {},
   "outputs": [],
   "source": [
    "cat_colums = ['gender',\n",
    " 'race/ethnicity',\n",
    " 'parental level of education',\n",
    " 'lunch',\n",
    " 'test preparation course']\n"
   ]
  },
  {
   "cell_type": "code",
   "execution_count": 49,
   "id": "64b024b7-4c68-4bff-907b-f407446f0daf",
   "metadata": {},
   "outputs": [
    {
     "name": "stdout",
     "output_type": "stream",
     "text": [
      "Chi2 Statistic: 163.75075682701225\n",
      "P-value: 2.2064991861989455e-08\n",
      "Degrees of Freedom: 76\n",
      "Contingency Table:\n",
      "writing score  10   15   19   22   23   27   28   30   32   33   ...  91   \\\n",
      "gender                                                           ...        \n",
      "female           1    0    0    0    1    1    1    1    2    2  ...    8   \n",
      "male             0    1    1    1    0    2    0    0    0    0  ...    3   \n",
      "\n",
      "writing score  92   93   94   95   96   97   98   99   100  \n",
      "gender                                                      \n",
      "female           6    7    6    7    4    2    2    3   13  \n",
      "male             3    1    0    1    0    0    0    1    1  \n",
      "\n",
      "[2 rows x 77 columns]\n",
      "\n",
      "\n",
      "There is a statistically significant association between gender and charges.\n",
      "\n",
      "\n",
      "Chi2 Statistic: 348.6833152856886\n",
      "P-value: 0.03945902069397243\n",
      "Degrees of Freedom: 304\n",
      "Contingency Table:\n",
      "writing score   10   15   19   22   23   27   28   30   32   33   ...  91   \\\n",
      "race/ethnicity                                                    ...        \n",
      "group A           0    0    1    0    0    0    0    0    0    0  ...    1   \n",
      "group B           0    1    0    0    1    2    1    0    1    0  ...    2   \n",
      "group C           1    0    0    0    0    1    0    1    0    2  ...    4   \n",
      "group D           0    0    0    0    0    0    0    0    1    0  ...    2   \n",
      "group E           0    0    0    1    0    0    0    0    0    0  ...    2   \n",
      "\n",
      "writing score   92   93   94   95   96   97   98   99   100  \n",
      "race/ethnicity                                               \n",
      "group A           2    1    0    0    0    1    0    0    0  \n",
      "group B           4    1    1    0    1    0    0    0    0  \n",
      "group C           1    3    4    4    0    0    0    2    1  \n",
      "group D           0    1    0    1    3    0    2    2    7  \n",
      "group E           2    2    1    3    0    1    0    0    6  \n",
      "\n",
      "[5 rows x 77 columns]\n",
      "\n",
      "\n",
      "There is a statistically significant association between race/ethnicity and charges.\n",
      "\n",
      "\n",
      "Chi2 Statistic: 446.3529795441334\n",
      "P-value: 0.010628870069175442\n",
      "Degrees of Freedom: 380\n",
      "Contingency Table:\n",
      "writing score                10   15   19   22   23   27   28   30   32   33   \\\n",
      "parental level of education                                                     \n",
      "associate's degree             0    0    0    0    0    0    0    0    0    0   \n",
      "bachelor's degree              0    0    0    0    0    0    0    0    0    0   \n",
      "high school                    0    1    0    0    1    1    0    1    0    0   \n",
      "master's degree                0    0    0    0    0    0    0    0    0    0   \n",
      "some college                   0    0    1    0    0    1    0    0    1    2   \n",
      "some high school               1    0    0    1    0    1    1    0    1    0   \n",
      "\n",
      "writing score                ...  91   92   93   94   95   96   97   98   99   \\\n",
      "parental level of education  ...                                                \n",
      "associate's degree           ...    2    4    3    2    5    0    0    1    1   \n",
      "bachelor's degree            ...    1    2    1    0    2    1    0    0    1   \n",
      "high school                  ...    0    0    0    0    0    0    0    0    0   \n",
      "master's degree              ...    2    0    1    1    1    1    0    0    0   \n",
      "some college                 ...    6    2    2    3    0    1    1    1    2   \n",
      "some high school             ...    0    1    1    0    0    1    1    0    0   \n",
      "\n",
      "writing score                100  \n",
      "parental level of education       \n",
      "associate's degree             1  \n",
      "bachelor's degree              7  \n",
      "high school                    1  \n",
      "master's degree                4  \n",
      "some college                   0  \n",
      "some high school               1  \n",
      "\n",
      "[6 rows x 77 columns]\n",
      "\n",
      "\n",
      "There is a statistically significant association between parental level of education and charges.\n",
      "\n",
      "\n",
      "Chi2 Statistic: 124.38453823185772\n",
      "P-value: 0.0003900033321886897\n",
      "Degrees of Freedom: 76\n",
      "Contingency Table:\n",
      "writing score  10   15   19   22   23   27   28   30   32   33   ...  91   \\\n",
      "lunch                                                            ...        \n",
      "free/reduced     1    1    1    0    1    3    1    0    1    2  ...    1   \n",
      "standard         0    0    0    1    0    0    0    1    1    0  ...   10   \n",
      "\n",
      "writing score  92   93   94   95   96   97   98   99   100  \n",
      "lunch                                                       \n",
      "free/reduced     0    3    1    0    0    0    1    0    3  \n",
      "standard         9    5    5    8    4    2    1    4   11  \n",
      "\n",
      "[2 rows x 77 columns]\n",
      "\n",
      "\n",
      "There is a statistically significant association between lunch and charges.\n",
      "\n",
      "\n",
      "Chi2 Statistic: 152.67987044202968\n",
      "P-value: 4.4419230624874495e-07\n",
      "Degrees of Freedom: 76\n",
      "Contingency Table:\n",
      "writing score            10   15   19   22   23   27   28   30   32   33   \\\n",
      "test preparation course                                                     \n",
      "completed                  0    0    0    0    0    0    0    0    0    0   \n",
      "none                       1    1    1    1    1    3    1    1    2    2   \n",
      "\n",
      "writing score            ...  91   92   93   94   95   96   97   98   99   100  \n",
      "test preparation course  ...                                                    \n",
      "completed                ...    7    6    4    4    5    1    1    2    3    9  \n",
      "none                     ...    4    3    4    2    3    3    1    0    1    5  \n",
      "\n",
      "[2 rows x 77 columns]\n",
      "\n",
      "\n",
      "There is a statistically significant association between test preparation course and charges.\n",
      "\n",
      "\n"
     ]
    }
   ],
   "source": [
    "for col in categorical_cols:\n",
    "    contingency_table = pd.crosstab(data[col], data['writing score'])\n",
    "    chi2, p_val, dof, expected = chi2_contingency(contingency_table)\n",
    "    \n",
    "    \n",
    "    print(f\"Chi2 Statistic: {chi2}\")\n",
    "    print(f\"P-value: {p_val}\")\n",
    "    print(f\"Degrees of Freedom: {dof}\")\n",
    "    print(\"Contingency Table:\")\n",
    "    print(contingency_table)\n",
    "    print(\"\\n\")\n",
    "    \n",
    "    # Decision based on p-value\n",
    "    if p_val < 0.05:\n",
    "        print(f\"There is a statistically significant association between {col} and charges.\")\n",
    "    else:\n",
    "        print(f\"There is no statistically significant association between {col} and charges.\")\n",
    "    print(\"\\n\")"
   ]
  },
  {
   "cell_type": "markdown",
   "id": "776d51c2-66ce-4f55-8f2e-0aa2daab6f72",
   "metadata": {},
   "source": [
    "# visualization"
   ]
  },
  {
   "cell_type": "code",
   "execution_count": 51,
   "id": "288debb0-1f15-44d2-a440-23eff7639210",
   "metadata": {},
   "outputs": [
    {
     "data": {
      "image/png": "[encoded data removed]",
      "text/plain": [
       "<Figure size 800x500 with 1 Axes>"
      ]
     },
     "metadata": {},
     "output_type": "display_data"
    }
   ],
   "source": [
    "plt.figure(figsize=(8, 5))\n",
    "\n",
    "sns.countplot(data=data, x='lunch', hue='race/ethnicity',palette=['#ADD8E6', 'navy'] )\n",
    "\n",
    "plt.title('qualification ')\n",
    "plt.xlabel('lunch')\n",
    "plt.ylabel('Count')\n",
    "\n",
    "plt.show()"
   ]
  },
  {
   "cell_type": "code",
   "execution_count": null,
   "id": "f95d7169-fd3d-4d1d-9bdf-8505bec1ceac",
   "metadata": {},
   "outputs": [],
   "source": []
  },
  {
   "cell_type": "markdown",
   "id": "2ed6067d-1c2a-45b4-9512-02f808190f00",
   "metadata": {},
   "source": [
    "# ANOVA (Analysis of Variance) - Test"
   ]
  },
  {
   "cell_type": "code",
   "execution_count": 53,
   "id": "9e695be5-f848-47f3-8a63-e6fd1fc0ba42",
   "metadata": {},
   "outputs": [],
   "source": [
    "lunch_by_math_score = [group['lunch'].values for name, group in data.groupby('math score')]"
   ]
  },
  {
   "cell_type": "code",
   "execution_count": 54,
   "id": "d2a19242-a910-4312-9ee6-3c69082a7741",
   "metadata": {},
   "outputs": [
    {
     "name": "stdout",
     "output_type": "stream",
     "text": [
      "ANOVA Result for Math Score by Lunch:\n",
      "F_onewayResult(statistic=140.1188415483512, pvalue=2.4131955993147374e-30)\n"
     ]
    }
   ],
   "source": [
    "# Group math scores by lunch\n",
    "grouped_math = data.groupby('lunch')['math score'].apply(list)\n",
    "\n",
    "# Perform ANOVA\n",
    "math_anova = f_oneway(*grouped_math)\n",
    "\n",
    "# Print result\n",
    "print(\"ANOVA Result for Math Score by Lunch:\")\n",
    "print(math_anova)"
   ]
  },
  {
   "cell_type": "code",
   "execution_count": 55,
   "id": "a29dc736-3c77-4584-b457-ea813554bdf4",
   "metadata": {},
   "outputs": [
    {
     "name": "stdout",
     "output_type": "stream",
     "text": [
      "null hypothesis rejected\n"
     ]
    }
   ],
   "source": [
    "if p_val < 0.05:\n",
    "    print(\"null hypothesis rejected\")\n",
    "else:\n",
    "    print(\"null hypothesis accepted\")\n",
    "    "
   ]
  },
  {
   "cell_type": "code",
   "execution_count": 56,
   "id": "ede97f69-4e0c-476c-b102-7101f1a5c0fd",
   "metadata": {},
   "outputs": [
    {
     "data": {
      "image/png": "[encoded data removed]",
      "text/plain": [
       "<Figure size 800x500 with 1 Axes>"
      ]
     },
     "metadata": {},
     "output_type": "display_data"
    }
   ],
   "source": [
    "plt.figure(figsize=(8, 5))\n",
    "\n",
    "sns.barplot(x='math score', y='lunch', data=data, estimator='mean', palette='Blues')\n",
    "\n",
    "plt.title('Average maths score  by lunch')\n",
    "plt.xlabel('math score')\n",
    "plt.ylabel('Average maths score')\n",
    "\n",
    "plt.show()"
   ]
  },
  {
   "cell_type": "markdown",
   "id": "d4e61a09-96b2-4fe3-86f1-b98baaa516e7",
   "metadata": {},
   "source": [
    "#  Binomial Test"
   ]
  },
  {
   "cell_type": "code",
   "execution_count": 58,
   "id": "47bcd479-280e-4ac2-a431-96ff41180a66",
   "metadata": {},
   "outputs": [
    {
     "name": "stdout",
     "output_type": "stream",
     "text": [
      "Passes: 865/1000\n",
      "p-value: 6.273045024472125e-131\n",
      "null hypothesis rejected\n"
     ]
    }
   ],
   "source": [
    "from scipy.stats import binomtest\n",
    "\n",
    "\n",
    "\n",
    "# Define passing as score ≥ 50\n",
    "data['pass_math'] = data['math score'] >= 50\n",
    "\n",
    "# Count passes and total\n",
    "num_passes = data['pass_math'].sum()\n",
    "total_students = len(data)\n",
    "\n",
    "# Run Binomial Test\n",
    "result = binomtest(k=num_passes, n=total_students, p=0.5, alternative='two-sided')\n",
    "\n",
    "# Results\n",
    "print(f\"Passes: {num_passes}/{total_students}\")\n",
    "print(\"p-value:\", result.pvalue)\n",
    "\n",
    "# Interpretation\n",
    "if result.pvalue < 0.05:\n",
    "    print(\"null hypothesis rejected\")\n",
    "else:\n",
    "    print(\"null hypothesis accepted\")\n",
    "    "
   ]
  },
  {
   "cell_type": "markdown",
   "id": "e5cb6a8b-1caf-4a02-8fd6-47e59202278e",
   "metadata": {},
   "source": [
    "# F - Test"
   ]
  },
  {
   "cell_type": "markdown",
   "id": "49a4cae9-b616-4431-bc17-35bb982c0317",
   "metadata": {},
   "source": [
    "# Encoding "
   ]
  },
  {
   "cell_type": "code",
   "execution_count": 61,
   "id": "435384bc-bb24-4177-8bcc-01bc4e9ffcfa",
   "metadata": {},
   "outputs": [],
   "source": [
    "for col in cat_cols:\n",
    "    le = LabelEncoder()\n",
    "    data[col] = le.fit_transform(data[col])"
   ]
  },
  {
   "cell_type": "code",
   "execution_count": 62,
   "id": "237b1c1a-5702-4028-9a25-2a8975365800",
   "metadata": {},
   "outputs": [
    {
     "data": {
      "text/html": [
       "<div>\n",
       "<style scoped>\n",
       "    .dataframe tbody tr th:only-of-type {\n",
       "        vertical-align: middle;\n",
       "    }\n",
       "\n",
       "    .dataframe tbody tr th {\n",
       "        vertical-align: top;\n",
       "    }\n",
       "\n",
       "    .dataframe thead th {\n",
       "        text-align: right;\n",
       "    }\n",
       "</style>\n",
       "<table border=\"1\" class=\"dataframe\">\n",
       "  <thead>\n",
       "    <tr style=\"text-align: right;\">\n",
       "      <th></th>\n",
       "      <th>gender</th>\n",
       "      <th>race/ethnicity</th>\n",
       "      <th>parental level of education</th>\n",
       "      <th>lunch</th>\n",
       "      <th>test preparation course</th>\n",
       "      <th>math score</th>\n",
       "      <th>reading score</th>\n",
       "      <th>writing score</th>\n",
       "      <th>pass_math</th>\n",
       "    </tr>\n",
       "  </thead>\n",
       "  <tbody>\n",
       "    <tr>\n",
       "      <th>0</th>\n",
       "      <td>0</td>\n",
       "      <td>1</td>\n",
       "      <td>1</td>\n",
       "      <td>1</td>\n",
       "      <td>1</td>\n",
       "      <td>72</td>\n",
       "      <td>72</td>\n",
       "      <td>74</td>\n",
       "      <td>True</td>\n",
       "    </tr>\n",
       "    <tr>\n",
       "      <th>1</th>\n",
       "      <td>0</td>\n",
       "      <td>2</td>\n",
       "      <td>4</td>\n",
       "      <td>1</td>\n",
       "      <td>0</td>\n",
       "      <td>69</td>\n",
       "      <td>90</td>\n",
       "      <td>88</td>\n",
       "      <td>True</td>\n",
       "    </tr>\n",
       "    <tr>\n",
       "      <th>2</th>\n",
       "      <td>0</td>\n",
       "      <td>1</td>\n",
       "      <td>3</td>\n",
       "      <td>1</td>\n",
       "      <td>1</td>\n",
       "      <td>90</td>\n",
       "      <td>95</td>\n",
       "      <td>93</td>\n",
       "      <td>True</td>\n",
       "    </tr>\n",
       "    <tr>\n",
       "      <th>3</th>\n",
       "      <td>1</td>\n",
       "      <td>0</td>\n",
       "      <td>0</td>\n",
       "      <td>0</td>\n",
       "      <td>1</td>\n",
       "      <td>47</td>\n",
       "      <td>57</td>\n",
       "      <td>44</td>\n",
       "      <td>False</td>\n",
       "    </tr>\n",
       "    <tr>\n",
       "      <th>4</th>\n",
       "      <td>1</td>\n",
       "      <td>2</td>\n",
       "      <td>4</td>\n",
       "      <td>1</td>\n",
       "      <td>1</td>\n",
       "      <td>76</td>\n",
       "      <td>78</td>\n",
       "      <td>75</td>\n",
       "      <td>True</td>\n",
       "    </tr>\n",
       "    <tr>\n",
       "      <th>...</th>\n",
       "      <td>...</td>\n",
       "      <td>...</td>\n",
       "      <td>...</td>\n",
       "      <td>...</td>\n",
       "      <td>...</td>\n",
       "      <td>...</td>\n",
       "      <td>...</td>\n",
       "      <td>...</td>\n",
       "      <td>...</td>\n",
       "    </tr>\n",
       "    <tr>\n",
       "      <th>995</th>\n",
       "      <td>0</td>\n",
       "      <td>4</td>\n",
       "      <td>3</td>\n",
       "      <td>1</td>\n",
       "      <td>0</td>\n",
       "      <td>88</td>\n",
       "      <td>99</td>\n",
       "      <td>95</td>\n",
       "      <td>True</td>\n",
       "    </tr>\n",
       "    <tr>\n",
       "      <th>996</th>\n",
       "      <td>1</td>\n",
       "      <td>2</td>\n",
       "      <td>2</td>\n",
       "      <td>0</td>\n",
       "      <td>1</td>\n",
       "      <td>62</td>\n",
       "      <td>55</td>\n",
       "      <td>55</td>\n",
       "      <td>True</td>\n",
       "    </tr>\n",
       "    <tr>\n",
       "      <th>997</th>\n",
       "      <td>0</td>\n",
       "      <td>2</td>\n",
       "      <td>2</td>\n",
       "      <td>0</td>\n",
       "      <td>0</td>\n",
       "      <td>59</td>\n",
       "      <td>71</td>\n",
       "      <td>65</td>\n",
       "      <td>True</td>\n",
       "    </tr>\n",
       "    <tr>\n",
       "      <th>998</th>\n",
       "      <td>0</td>\n",
       "      <td>3</td>\n",
       "      <td>4</td>\n",
       "      <td>1</td>\n",
       "      <td>0</td>\n",
       "      <td>68</td>\n",
       "      <td>78</td>\n",
       "      <td>77</td>\n",
       "      <td>True</td>\n",
       "    </tr>\n",
       "    <tr>\n",
       "      <th>999</th>\n",
       "      <td>0</td>\n",
       "      <td>3</td>\n",
       "      <td>4</td>\n",
       "      <td>0</td>\n",
       "      <td>1</td>\n",
       "      <td>77</td>\n",
       "      <td>86</td>\n",
       "      <td>86</td>\n",
       "      <td>True</td>\n",
       "    </tr>\n",
       "  </tbody>\n",
       "</table>\n",
       "<p>1000 rows × 9 columns</p>\n",
       "</div>"
      ],
      "text/plain": [
       "     gender  race/ethnicity  parental level of education  lunch  \\\n",
       "0         0               1                            1      1   \n",
       "1         0               2                            4      1   \n",
       "2         0               1                            3      1   \n",
       "3         1               0                            0      0   \n",
       "4         1               2                            4      1   \n",
       "..      ...             ...                          ...    ...   \n",
       "995       0               4                            3      1   \n",
       "996       1               2                            2      0   \n",
       "997       0               2                            2      0   \n",
       "998       0               3                            4      1   \n",
       "999       0               3                            4      0   \n",
       "\n",
       "     test preparation course  math score  reading score  writing score  \\\n",
       "0                          1          72             72             74   \n",
       "1                          0          69             90             88   \n",
       "2                          1          90             95             93   \n",
       "3                          1          47             57             44   \n",
       "4                          1          76             78             75   \n",
       "..                       ...         ...            ...            ...   \n",
       "995                        0          88             99             95   \n",
       "996                        1          62             55             55   \n",
       "997                        0          59             71             65   \n",
       "998                        0          68             78             77   \n",
       "999                        1          77             86             86   \n",
       "\n",
       "     pass_math  \n",
       "0         True  \n",
       "1         True  \n",
       "2         True  \n",
       "3        False  \n",
       "4         True  \n",
       "..         ...  \n",
       "995       True  \n",
       "996       True  \n",
       "997       True  \n",
       "998       True  \n",
       "999       True  \n",
       "\n",
       "[1000 rows x 9 columns]"
      ]
     },
     "execution_count": 62,
     "metadata": {},
     "output_type": "execute_result"
    }
   ],
   "source": [
    "data"
   ]
  },
  {
   "cell_type": "markdown",
   "id": "5a8fd7e0-9ddb-424c-a4f0-3b36c954300a",
   "metadata": {},
   "source": [
    "# Scaling the Data"
   ]
  },
  {
   "cell_type": "code",
   "execution_count": 64,
   "id": "73e058a4-d942-4f45-adfa-e068de01d288",
   "metadata": {},
   "outputs": [
    {
     "data": {
      "text/plain": [
       "array([[-0.96462528, -1.01504393, -0.81264039, ...,  0.19399858,\n",
       "         0.39149181,  0.39505615],\n",
       "       [-0.96462528, -0.15044092,  0.82795259, ...,  1.42747598,\n",
       "         1.31326868,  0.39505615],\n",
       "       [-0.96462528, -1.01504393,  0.28108826, ...,  1.77010859,\n",
       "         1.64247471,  0.39505615],\n",
       "       ...,\n",
       "       [-0.96462528, -0.15044092, -0.26577606, ...,  0.12547206,\n",
       "        -0.20107904,  0.39505615],\n",
       "       [-0.96462528,  0.71416208,  0.82795259, ...,  0.60515772,\n",
       "         0.58901542,  0.39505615],\n",
       "       [-0.96462528,  0.71416208,  0.82795259, ...,  1.15336989,\n",
       "         1.18158627,  0.39505615]])"
      ]
     },
     "execution_count": 64,
     "metadata": {},
     "output_type": "execute_result"
    }
   ],
   "source": [
    "scaler = StandardScaler()\n",
    "scaled_data = scaler.fit_transform(data)\n",
    "scaled_data"
   ]
  },
  {
   "cell_type": "code",
   "execution_count": 65,
   "id": "d20e81c2-9ae9-4d2f-b29b-1b9bcaa8b15b",
   "metadata": {},
   "outputs": [],
   "source": [
    "data = pd.DataFrame(data,columns = data.columns,index = data.index)"
   ]
  },
  {
   "cell_type": "code",
   "execution_count": 66,
   "id": "1342b2da-fce5-440a-a74e-0259880ac5d6",
   "metadata": {},
   "outputs": [
    {
     "data": {
      "text/html": [
       "<div>\n",
       "<style scoped>\n",
       "    .dataframe tbody tr th:only-of-type {\n",
       "        vertical-align: middle;\n",
       "    }\n",
       "\n",
       "    .dataframe tbody tr th {\n",
       "        vertical-align: top;\n",
       "    }\n",
       "\n",
       "    .dataframe thead th {\n",
       "        text-align: right;\n",
       "    }\n",
       "</style>\n",
       "<table border=\"1\" class=\"dataframe\">\n",
       "  <thead>\n",
       "    <tr style=\"text-align: right;\">\n",
       "      <th></th>\n",
       "      <th>gender</th>\n",
       "      <th>race/ethnicity</th>\n",
       "      <th>parental level of education</th>\n",
       "      <th>lunch</th>\n",
       "      <th>test preparation course</th>\n",
       "      <th>math score</th>\n",
       "      <th>reading score</th>\n",
       "      <th>writing score</th>\n",
       "      <th>pass_math</th>\n",
       "    </tr>\n",
       "  </thead>\n",
       "  <tbody>\n",
       "    <tr>\n",
       "      <th>0</th>\n",
       "      <td>0</td>\n",
       "      <td>1</td>\n",
       "      <td>1</td>\n",
       "      <td>1</td>\n",
       "      <td>1</td>\n",
       "      <td>72</td>\n",
       "      <td>72</td>\n",
       "      <td>74</td>\n",
       "      <td>True</td>\n",
       "    </tr>\n",
       "    <tr>\n",
       "      <th>1</th>\n",
       "      <td>0</td>\n",
       "      <td>2</td>\n",
       "      <td>4</td>\n",
       "      <td>1</td>\n",
       "      <td>0</td>\n",
       "      <td>69</td>\n",
       "      <td>90</td>\n",
       "      <td>88</td>\n",
       "      <td>True</td>\n",
       "    </tr>\n",
       "    <tr>\n",
       "      <th>2</th>\n",
       "      <td>0</td>\n",
       "      <td>1</td>\n",
       "      <td>3</td>\n",
       "      <td>1</td>\n",
       "      <td>1</td>\n",
       "      <td>90</td>\n",
       "      <td>95</td>\n",
       "      <td>93</td>\n",
       "      <td>True</td>\n",
       "    </tr>\n",
       "    <tr>\n",
       "      <th>3</th>\n",
       "      <td>1</td>\n",
       "      <td>0</td>\n",
       "      <td>0</td>\n",
       "      <td>0</td>\n",
       "      <td>1</td>\n",
       "      <td>47</td>\n",
       "      <td>57</td>\n",
       "      <td>44</td>\n",
       "      <td>False</td>\n",
       "    </tr>\n",
       "    <tr>\n",
       "      <th>4</th>\n",
       "      <td>1</td>\n",
       "      <td>2</td>\n",
       "      <td>4</td>\n",
       "      <td>1</td>\n",
       "      <td>1</td>\n",
       "      <td>76</td>\n",
       "      <td>78</td>\n",
       "      <td>75</td>\n",
       "      <td>True</td>\n",
       "    </tr>\n",
       "    <tr>\n",
       "      <th>...</th>\n",
       "      <td>...</td>\n",
       "      <td>...</td>\n",
       "      <td>...</td>\n",
       "      <td>...</td>\n",
       "      <td>...</td>\n",
       "      <td>...</td>\n",
       "      <td>...</td>\n",
       "      <td>...</td>\n",
       "      <td>...</td>\n",
       "    </tr>\n",
       "    <tr>\n",
       "      <th>995</th>\n",
       "      <td>0</td>\n",
       "      <td>4</td>\n",
       "      <td>3</td>\n",
       "      <td>1</td>\n",
       "      <td>0</td>\n",
       "      <td>88</td>\n",
       "      <td>99</td>\n",
       "      <td>95</td>\n",
       "      <td>True</td>\n",
       "    </tr>\n",
       "    <tr>\n",
       "      <th>996</th>\n",
       "      <td>1</td>\n",
       "      <td>2</td>\n",
       "      <td>2</td>\n",
       "      <td>0</td>\n",
       "      <td>1</td>\n",
       "      <td>62</td>\n",
       "      <td>55</td>\n",
       "      <td>55</td>\n",
       "      <td>True</td>\n",
       "    </tr>\n",
       "    <tr>\n",
       "      <th>997</th>\n",
       "      <td>0</td>\n",
       "      <td>2</td>\n",
       "      <td>2</td>\n",
       "      <td>0</td>\n",
       "      <td>0</td>\n",
       "      <td>59</td>\n",
       "      <td>71</td>\n",
       "      <td>65</td>\n",
       "      <td>True</td>\n",
       "    </tr>\n",
       "    <tr>\n",
       "      <th>998</th>\n",
       "      <td>0</td>\n",
       "      <td>3</td>\n",
       "      <td>4</td>\n",
       "      <td>1</td>\n",
       "      <td>0</td>\n",
       "      <td>68</td>\n",
       "      <td>78</td>\n",
       "      <td>77</td>\n",
       "      <td>True</td>\n",
       "    </tr>\n",
       "    <tr>\n",
       "      <th>999</th>\n",
       "      <td>0</td>\n",
       "      <td>3</td>\n",
       "      <td>4</td>\n",
       "      <td>0</td>\n",
       "      <td>1</td>\n",
       "      <td>77</td>\n",
       "      <td>86</td>\n",
       "      <td>86</td>\n",
       "      <td>True</td>\n",
       "    </tr>\n",
       "  </tbody>\n",
       "</table>\n",
       "<p>1000 rows × 9 columns</p>\n",
       "</div>"
      ],
      "text/plain": [
       "     gender  race/ethnicity  parental level of education  lunch  \\\n",
       "0         0               1                            1      1   \n",
       "1         0               2                            4      1   \n",
       "2         0               1                            3      1   \n",
       "3         1               0                            0      0   \n",
       "4         1               2                            4      1   \n",
       "..      ...             ...                          ...    ...   \n",
       "995       0               4                            3      1   \n",
       "996       1               2                            2      0   \n",
       "997       0               2                            2      0   \n",
       "998       0               3                            4      1   \n",
       "999       0               3                            4      0   \n",
       "\n",
       "     test preparation course  math score  reading score  writing score  \\\n",
       "0                          1          72             72             74   \n",
       "1                          0          69             90             88   \n",
       "2                          1          90             95             93   \n",
       "3                          1          47             57             44   \n",
       "4                          1          76             78             75   \n",
       "..                       ...         ...            ...            ...   \n",
       "995                        0          88             99             95   \n",
       "996                        1          62             55             55   \n",
       "997                        0          59             71             65   \n",
       "998                        0          68             78             77   \n",
       "999                        1          77             86             86   \n",
       "\n",
       "     pass_math  \n",
       "0         True  \n",
       "1         True  \n",
       "2         True  \n",
       "3        False  \n",
       "4         True  \n",
       "..         ...  \n",
       "995       True  \n",
       "996       True  \n",
       "997       True  \n",
       "998       True  \n",
       "999       True  \n",
       "\n",
       "[1000 rows x 9 columns]"
      ]
     },
     "execution_count": 66,
     "metadata": {},
     "output_type": "execute_result"
    }
   ],
   "source": [
    "data"
   ]
  },
  {
   "cell_type": "code",
   "execution_count": 67,
   "id": "b4c7d02e-7f1d-4516-ae01-be8ce5e8fb06",
   "metadata": {},
   "outputs": [],
   "source": [
    "X = data.drop('pass_math', axis=1)\n",
    "Y = data['pass_math']"
   ]
  },
  {
   "cell_type": "markdown",
   "id": "f57df69f-ba3c-4d71-885d-6ad09f79d377",
   "metadata": {},
   "source": [
    "# train -test-split"
   ]
  },
  {
   "cell_type": "code",
   "execution_count": 69,
   "id": "ad2d6371-1ca8-4731-be74-04db7688ec00",
   "metadata": {},
   "outputs": [],
   "source": [
    "X_train, X_test, Y_train, Y_test = train_test_split(X, Y, test_size=0.3, random_state=42)"
   ]
  },
  {
   "cell_type": "markdown",
   "id": "e0b2e024-7f29-4290-adfe-ae42550f373e",
   "metadata": {},
   "source": [
    "# Building Model"
   ]
  },
  {
   "cell_type": "code",
   "execution_count": 71,
   "id": "ed05ac6f-8c98-4e38-b323-3ba322111668",
   "metadata": {},
   "outputs": [
    {
     "data": {
      "text/html": [
       "<style>#sk-container-id-1 {\n",
       "  /* Definition of color scheme common for light and dark mode */\n",
       "  --sklearn-color-text: black;\n",
       "  --sklearn-color-line: gray;\n",
       "  /* Definition of color scheme for unfitted estimators */\n",
       "  --sklearn-color-unfitted-level-0: #fff5e6;\n",
       "  --sklearn-color-unfitted-level-1: #f6e4d2;\n",
       "  --sklearn-color-unfitted-level-2: #ffe0b3;\n",
       "  --sklearn-color-unfitted-level-3: chocolate;\n",
       "  /* Definition of color scheme for fitted estimators */\n",
       "  --sklearn-color-fitted-level-0: #f0f8ff;\n",
       "  --sklearn-color-fitted-level-1: #d4ebff;\n",
       "  --sklearn-color-fitted-level-2: #b3dbfd;\n",
       "  --sklearn-color-fitted-level-3: cornflowerblue;\n",
       "\n",
       "  /* Specific color for light theme */\n",
       "  --sklearn-color-text-on-default-background: var(--sg-text-color, var(--theme-code-foreground, var(--jp-content-font-color1, black)));\n",
       "  --sklearn-color-background: var(--sg-background-color, var(--theme-background, var(--jp-layout-color0, white)));\n",
       "  --sklearn-color-border-box: var(--sg-text-color, var(--theme-code-foreground, var(--jp-content-font-color1, black)));\n",
       "  --sklearn-color-icon: #696969;\n",
       "\n",
       "  @media (prefers-color-scheme: dark) {\n",
       "    /* Redefinition of color scheme for dark theme */\n",
       "    --sklearn-color-text-on-default-background: var(--sg-text-color, var(--theme-code-foreground, var(--jp-content-font-color1, white)));\n",
       "    --sklearn-color-background: var(--sg-background-color, var(--theme-background, var(--jp-layout-color0, #111)));\n",
       "    --sklearn-color-border-box: var(--sg-text-color, var(--theme-code-foreground, var(--jp-content-font-color1, white)));\n",
       "    --sklearn-color-icon: #878787;\n",
       "  }\n",
       "}\n",
       "\n",
       "#sk-container-id-1 {\n",
       "  color: var(--sklearn-color-text);\n",
       "}\n",
       "\n",
       "#sk-container-id-1 pre {\n",
       "  padding: 0;\n",
       "}\n",
       "\n",
       "#sk-container-id-1 input.sk-hidden--visually {\n",
       "  border: 0;\n",
       "  clip: rect(1px 1px 1px 1px);\n",
       "  clip: rect(1px, 1px, 1px, 1px);\n",
       "  height: 1px;\n",
       "  margin: -1px;\n",
       "  overflow: hidden;\n",
       "  padding: 0;\n",
       "  position: absolute;\n",
       "  width: 1px;\n",
       "}\n",
       "\n",
       "#sk-container-id-1 div.sk-dashed-wrapped {\n",
       "  border: 1px dashed var(--sklearn-color-line);\n",
       "  margin: 0 0.4em 0.5em 0.4em;\n",
       "  box-sizing: border-box;\n",
       "  padding-bottom: 0.4em;\n",
       "  background-color: var(--sklearn-color-background);\n",
       "}\n",
       "\n",
       "#sk-container-id-1 div.sk-container {\n",
       "  /* jupyter's `normalize.less` sets `[hidden] { display: none; }`\n",
       "     but bootstrap.min.css set `[hidden] { display: none !important; }`\n",
       "     so we also need the `!important` here to be able to override the\n",
       "     default hidden behavior on the sphinx rendered scikit-learn.org.\n",
       "     See: https://github.com/scikit-learn/scikit-learn/issues/21755 */\n",
       "  display: inline-block !important;\n",
       "  position: relative;\n",
       "}\n",
       "\n",
       "#sk-container-id-1 div.sk-text-repr-fallback {\n",
       "  display: none;\n",
       "}\n",
       "\n",
       "div.sk-parallel-item,\n",
       "div.sk-serial,\n",
       "div.sk-item {\n",
       "  /* draw centered vertical line to link estimators */\n",
       "  background-image: linear-gradient(var(--sklearn-color-text-on-default-background), var(--sklearn-color-text-on-default-background));\n",
       "  background-size: 2px 100%;\n",
       "  background-repeat: no-repeat;\n",
       "  background-position: center center;\n",
       "}\n",
       "\n",
       "/* Parallel-specific style estimator block */\n",
       "\n",
       "#sk-container-id-1 div.sk-parallel-item::after {\n",
       "  content: \"\";\n",
       "  width: 100%;\n",
       "  border-bottom: 2px solid var(--sklearn-color-text-on-default-background);\n",
       "  flex-grow: 1;\n",
       "}\n",
       "\n",
       "#sk-container-id-1 div.sk-parallel {\n",
       "  display: flex;\n",
       "  align-items: stretch;\n",
       "  justify-content: center;\n",
       "  background-color: var(--sklearn-color-background);\n",
       "  position: relative;\n",
       "}\n",
       "\n",
       "#sk-container-id-1 div.sk-parallel-item {\n",
       "  display: flex;\n",
       "  flex-direction: column;\n",
       "}\n",
       "\n",
       "#sk-container-id-1 div.sk-parallel-item:first-child::after {\n",
       "  align-self: flex-end;\n",
       "  width: 50%;\n",
       "}\n",
       "\n",
       "#sk-container-id-1 div.sk-parallel-item:last-child::after {\n",
       "  align-self: flex-start;\n",
       "  width: 50%;\n",
       "}\n",
       "\n",
       "#sk-container-id-1 div.sk-parallel-item:only-child::after {\n",
       "  width: 0;\n",
       "}\n",
       "\n",
       "/* Serial-specific style estimator block */\n",
       "\n",
       "#sk-container-id-1 div.sk-serial {\n",
       "  display: flex;\n",
       "  flex-direction: column;\n",
       "  align-items: center;\n",
       "  background-color: var(--sklearn-color-background);\n",
       "  padding-right: 1em;\n",
       "  padding-left: 1em;\n",
       "}\n",
       "\n",
       "\n",
       "/* Toggleable style: style used for estimator/Pipeline/ColumnTransformer box that is\n",
       "clickable and can be expanded/collapsed.\n",
       "- Pipeline and ColumnTransformer use this feature and define the default style\n",
       "- Estimators will overwrite some part of the style using the `sk-estimator` class\n",
       "*/\n",
       "\n",
       "/* Pipeline and ColumnTransformer style (default) */\n",
       "\n",
       "#sk-container-id-1 div.sk-toggleable {\n",
       "  /* Default theme specific background. It is overwritten whether we have a\n",
       "  specific estimator or a Pipeline/ColumnTransformer */\n",
       "  background-color: var(--sklearn-color-background);\n",
       "}\n",
       "\n",
       "/* Toggleable label */\n",
       "#sk-container-id-1 label.sk-toggleable__label {\n",
       "  cursor: pointer;\n",
       "  display: block;\n",
       "  width: 100%;\n",
       "  margin-bottom: 0;\n",
       "  padding: 0.5em;\n",
       "  box-sizing: border-box;\n",
       "  text-align: center;\n",
       "}\n",
       "\n",
       "#sk-container-id-1 label.sk-toggleable__label-arrow:before {\n",
       "  /* Arrow on the left of the label */\n",
       "  content: \"▸\";\n",
       "  float: left;\n",
       "  margin-right: 0.25em;\n",
       "  color: var(--sklearn-color-icon);\n",
       "}\n",
       "\n",
       "#sk-container-id-1 label.sk-toggleable__label-arrow:hover:before {\n",
       "  color: var(--sklearn-color-text);\n",
       "}\n",
       "\n",
       "/* Toggleable content - dropdown */\n",
       "\n",
       "#sk-container-id-1 div.sk-toggleable__content {\n",
       "  max-height: 0;\n",
       "  max-width: 0;\n",
       "  overflow: hidden;\n",
       "  text-align: left;\n",
       "  /* unfitted */\n",
       "  background-color: var(--sklearn-color-unfitted-level-0);\n",
       "}\n",
       "\n",
       "#sk-container-id-1 div.sk-toggleable__content.fitted {\n",
       "  /* fitted */\n",
       "  background-color: var(--sklearn-color-fitted-level-0);\n",
       "}\n",
       "\n",
       "#sk-container-id-1 div.sk-toggleable__content pre {\n",
       "  margin: 0.2em;\n",
       "  border-radius: 0.25em;\n",
       "  color: var(--sklearn-color-text);\n",
       "  /* unfitted */\n",
       "  background-color: var(--sklearn-color-unfitted-level-0);\n",
       "}\n",
       "\n",
       "#sk-container-id-1 div.sk-toggleable__content.fitted pre {\n",
       "  /* unfitted */\n",
       "  background-color: var(--sklearn-color-fitted-level-0);\n",
       "}\n",
       "\n",
       "#sk-container-id-1 input.sk-toggleable__control:checked~div.sk-toggleable__content {\n",
       "  /* Expand drop-down */\n",
       "  max-height: 200px;\n",
       "  max-width: 100%;\n",
       "  overflow: auto;\n",
       "}\n",
       "\n",
       "#sk-container-id-1 input.sk-toggleable__control:checked~label.sk-toggleable__label-arrow:before {\n",
       "  content: \"▾\";\n",
       "}\n",
       "\n",
       "/* Pipeline/ColumnTransformer-specific style */\n",
       "\n",
       "#sk-container-id-1 div.sk-label input.sk-toggleable__control:checked~label.sk-toggleable__label {\n",
       "  color: var(--sklearn-color-text);\n",
       "  background-color: var(--sklearn-color-unfitted-level-2);\n",
       "}\n",
       "\n",
       "#sk-container-id-1 div.sk-label.fitted input.sk-toggleable__control:checked~label.sk-toggleable__label {\n",
       "  background-color: var(--sklearn-color-fitted-level-2);\n",
       "}\n",
       "\n",
       "/* Estimator-specific style */\n",
       "\n",
       "/* Colorize estimator box */\n",
       "#sk-container-id-1 div.sk-estimator input.sk-toggleable__control:checked~label.sk-toggleable__label {\n",
       "  /* unfitted */\n",
       "  background-color: var(--sklearn-color-unfitted-level-2);\n",
       "}\n",
       "\n",
       "#sk-container-id-1 div.sk-estimator.fitted input.sk-toggleable__control:checked~label.sk-toggleable__label {\n",
       "  /* fitted */\n",
       "  background-color: var(--sklearn-color-fitted-level-2);\n",
       "}\n",
       "\n",
       "#sk-container-id-1 div.sk-label label.sk-toggleable__label,\n",
       "#sk-container-id-1 div.sk-label label {\n",
       "  /* The background is the default theme color */\n",
       "  color: var(--sklearn-color-text-on-default-background);\n",
       "}\n",
       "\n",
       "/* On hover, darken the color of the background */\n",
       "#sk-container-id-1 div.sk-label:hover label.sk-toggleable__label {\n",
       "  color: var(--sklearn-color-text);\n",
       "  background-color: var(--sklearn-color-unfitted-level-2);\n",
       "}\n",
       "\n",
       "/* Label box, darken color on hover, fitted */\n",
       "#sk-container-id-1 div.sk-label.fitted:hover label.sk-toggleable__label.fitted {\n",
       "  color: var(--sklearn-color-text);\n",
       "  background-color: var(--sklearn-color-fitted-level-2);\n",
       "}\n",
       "\n",
       "/* Estimator label */\n",
       "\n",
       "#sk-container-id-1 div.sk-label label {\n",
       "  font-family: monospace;\n",
       "  font-weight: bold;\n",
       "  display: inline-block;\n",
       "  line-height: 1.2em;\n",
       "}\n",
       "\n",
       "#sk-container-id-1 div.sk-label-container {\n",
       "  text-align: center;\n",
       "}\n",
       "\n",
       "/* Estimator-specific */\n",
       "#sk-container-id-1 div.sk-estimator {\n",
       "  font-family: monospace;\n",
       "  border: 1px dotted var(--sklearn-color-border-box);\n",
       "  border-radius: 0.25em;\n",
       "  box-sizing: border-box;\n",
       "  margin-bottom: 0.5em;\n",
       "  /* unfitted */\n",
       "  background-color: var(--sklearn-color-unfitted-level-0);\n",
       "}\n",
       "\n",
       "#sk-container-id-1 div.sk-estimator.fitted {\n",
       "  /* fitted */\n",
       "  background-color: var(--sklearn-color-fitted-level-0);\n",
       "}\n",
       "\n",
       "/* on hover */\n",
       "#sk-container-id-1 div.sk-estimator:hover {\n",
       "  /* unfitted */\n",
       "  background-color: var(--sklearn-color-unfitted-level-2);\n",
       "}\n",
       "\n",
       "#sk-container-id-1 div.sk-estimator.fitted:hover {\n",
       "  /* fitted */\n",
       "  background-color: var(--sklearn-color-fitted-level-2);\n",
       "}\n",
       "\n",
       "/* Specification for estimator info (e.g. \"i\" and \"?\") */\n",
       "\n",
       "/* Common style for \"i\" and \"?\" */\n",
       "\n",
       ".sk-estimator-doc-link,\n",
       "a:link.sk-estimator-doc-link,\n",
       "a:visited.sk-estimator-doc-link {\n",
       "  float: right;\n",
       "  font-size: smaller;\n",
       "  line-height: 1em;\n",
       "  font-family: monospace;\n",
       "  background-color: var(--sklearn-color-background);\n",
       "  border-radius: 1em;\n",
       "  height: 1em;\n",
       "  width: 1em;\n",
       "  text-decoration: none !important;\n",
       "  margin-left: 1ex;\n",
       "  /* unfitted */\n",
       "  border: var(--sklearn-color-unfitted-level-1) 1pt solid;\n",
       "  color: var(--sklearn-color-unfitted-level-1);\n",
       "}\n",
       "\n",
       ".sk-estimator-doc-link.fitted,\n",
       "a:link.sk-estimator-doc-link.fitted,\n",
       "a:visited.sk-estimator-doc-link.fitted {\n",
       "  /* fitted */\n",
       "  border: var(--sklearn-color-fitted-level-1) 1pt solid;\n",
       "  color: var(--sklearn-color-fitted-level-1);\n",
       "}\n",
       "\n",
       "/* On hover */\n",
       "div.sk-estimator:hover .sk-estimator-doc-link:hover,\n",
       ".sk-estimator-doc-link:hover,\n",
       "div.sk-label-container:hover .sk-estimator-doc-link:hover,\n",
       ".sk-estimator-doc-link:hover {\n",
       "  /* unfitted */\n",
       "  background-color: var(--sklearn-color-unfitted-level-3);\n",
       "  color: var(--sklearn-color-background);\n",
       "  text-decoration: none;\n",
       "}\n",
       "\n",
       "div.sk-estimator.fitted:hover .sk-estimator-doc-link.fitted:hover,\n",
       ".sk-estimator-doc-link.fitted:hover,\n",
       "div.sk-label-container:hover .sk-estimator-doc-link.fitted:hover,\n",
       ".sk-estimator-doc-link.fitted:hover {\n",
       "  /* fitted */\n",
       "  background-color: var(--sklearn-color-fitted-level-3);\n",
       "  color: var(--sklearn-color-background);\n",
       "  text-decoration: none;\n",
       "}\n",
       "\n",
       "/* Span, style for the box shown on hovering the info icon */\n",
       ".sk-estimator-doc-link span {\n",
       "  display: none;\n",
       "  z-index: 9999;\n",
       "  position: relative;\n",
       "  font-weight: normal;\n",
       "  right: .2ex;\n",
       "  padding: .5ex;\n",
       "  margin: .5ex;\n",
       "  width: min-content;\n",
       "  min-width: 20ex;\n",
       "  max-width: 50ex;\n",
       "  color: var(--sklearn-color-text);\n",
       "  box-shadow: 2pt 2pt 4pt #999;\n",
       "  /* unfitted */\n",
       "  background: var(--sklearn-color-unfitted-level-0);\n",
       "  border: .5pt solid var(--sklearn-color-unfitted-level-3);\n",
       "}\n",
       "\n",
       ".sk-estimator-doc-link.fitted span {\n",
       "  /* fitted */\n",
       "  background: var(--sklearn-color-fitted-level-0);\n",
       "  border: var(--sklearn-color-fitted-level-3);\n",
       "}\n",
       "\n",
       ".sk-estimator-doc-link:hover span {\n",
       "  display: block;\n",
       "}\n",
       "\n",
       "/* \"?\"-specific style due to the `<a>` HTML tag */\n",
       "\n",
       "#sk-container-id-1 a.estimator_doc_link {\n",
       "  float: right;\n",
       "  font-size: 1rem;\n",
       "  line-height: 1em;\n",
       "  font-family: monospace;\n",
       "  background-color: var(--sklearn-color-background);\n",
       "  border-radius: 1rem;\n",
       "  height: 1rem;\n",
       "  width: 1rem;\n",
       "  text-decoration: none;\n",
       "  /* unfitted */\n",
       "  color: var(--sklearn-color-unfitted-level-1);\n",
       "  border: var(--sklearn-color-unfitted-level-1) 1pt solid;\n",
       "}\n",
       "\n",
       "#sk-container-id-1 a.estimator_doc_link.fitted {\n",
       "  /* fitted */\n",
       "  border: var(--sklearn-color-fitted-level-1) 1pt solid;\n",
       "  color: var(--sklearn-color-fitted-level-1);\n",
       "}\n",
       "\n",
       "/* On hover */\n",
       "#sk-container-id-1 a.estimator_doc_link:hover {\n",
       "  /* unfitted */\n",
       "  background-color: var(--sklearn-color-unfitted-level-3);\n",
       "  color: var(--sklearn-color-background);\n",
       "  text-decoration: none;\n",
       "}\n",
       "\n",
       "#sk-container-id-1 a.estimator_doc_link.fitted:hover {\n",
       "  /* fitted */\n",
       "  background-color: var(--sklearn-color-fitted-level-3);\n",
       "}\n",
       "</style><div id=\"sk-container-id-1\" class=\"sk-top-container\"><div class=\"sk-text-repr-fallback\"><pre>LinearRegression()</pre><b>In a Jupyter environment, please rerun this cell to show the HTML representation or trust the notebook. <br />On GitHub, the HTML representation is unable to render, please try loading this page with nbviewer.org.</b></div><div class=\"sk-container\" hidden><div class=\"sk-item\"><div class=\"sk-estimator fitted sk-toggleable\"><input class=\"sk-toggleable__control sk-hidden--visually\" id=\"sk-estimator-id-1\" type=\"checkbox\" checked><label for=\"sk-estimator-id-1\" class=\"sk-toggleable__label fitted sk-toggleable__label-arrow fitted\">&nbsp;&nbsp;LinearRegression<a class=\"sk-estimator-doc-link fitted\" rel=\"noreferrer\" target=\"_blank\" href=\"https://scikit-learn.org/1.4/modules/generated/sklearn.linear_model.LinearRegression.html\">?<span>Documentation for LinearRegression</span></a><span class=\"sk-estimator-doc-link fitted\">i<span>Fitted</span></span></label><div class=\"sk-toggleable__content fitted\"><pre>LinearRegression()</pre></div> </div></div></div></div>"
      ],
      "text/plain": [
       "LinearRegression()"
      ]
     },
     "execution_count": 71,
     "metadata": {},
     "output_type": "execute_result"
    }
   ],
   "source": [
    "model = LinearRegression()\n",
    "model.fit(X_train,Y_train)"
   ]
  },
  {
   "cell_type": "markdown",
   "id": "becd7470-e507-4f95-a670-23a088ae104b",
   "metadata": {},
   "source": [
    "# predicting"
   ]
  },
  {
   "cell_type": "code",
   "execution_count": 73,
   "id": "5bcd8149-d253-44c1-8b3a-0081818f9cce",
   "metadata": {},
   "outputs": [],
   "source": [
    "Y_pred = model.predict(X_test)"
   ]
  },
  {
   "cell_type": "code",
   "execution_count": 74,
   "id": "18cd4a3a-894b-45b1-9295-7922976fc631",
   "metadata": {},
   "outputs": [
    {
     "data": {
      "text/plain": [
       "array([ 1.20255704,  0.72623251,  1.07100288,  0.95615966,  1.0889342 ,\n",
       "        1.06616439,  0.88486805,  0.73984615,  1.13004938,  0.64680489,\n",
       "        0.62748793,  0.35613104,  0.88523107,  0.58476547,  1.16539662,\n",
       "        0.88312979,  0.6593838 ,  0.67790113,  0.60506587,  0.68551838,\n",
       "        1.06021883,  0.54682497,  0.5658662 ,  0.39309519,  1.03429774,\n",
       "        1.09186089,  0.92823722,  0.50741555,  0.40743112,  0.60867663,\n",
       "        0.84647287,  0.98845859,  0.79180472,  1.01145277,  1.07807306,\n",
       "        0.5850412 ,  0.97636984,  0.9122838 ,  0.95707246, -0.0839735 ,\n",
       "        1.12902969,  0.88584596,  0.93698643,  0.78030479,  1.10831817,\n",
       "        0.82047139,  0.94890859,  0.37902625,  1.16665402,  1.02283108,\n",
       "        0.96733717,  0.84251142,  1.07717653,  0.62254235,  0.9217173 ,\n",
       "        0.90797405,  1.20978229,  0.78674842,  1.14475752,  1.18166268,\n",
       "        0.66821021,  0.93192971,  1.09023605,  0.77216503,  1.10514186,\n",
       "        0.88319533,  0.67792932,  0.75761288,  0.76756255,  1.06682749,\n",
       "        0.87850886,  1.10503725,  0.73783069,  0.49636062,  0.8422993 ,\n",
       "        1.02641854,  1.18498648,  0.76702124,  0.68208534,  0.65947628,\n",
       "        0.79973667,  0.55025283,  1.10833299,  0.82277145,  0.88736845,\n",
       "        0.77013088,  0.89243595,  0.84298096,  1.01204286,  0.34957807,\n",
       "        0.98995825,  1.32427089,  0.9152139 ,  0.85973029,  0.24446909,\n",
       "        0.98681928,  0.79257661,  0.79954704,  0.88582863,  0.72523444,\n",
       "        0.97821686,  0.83533678,  0.92193078,  0.79383773,  0.95919762,\n",
       "        0.9461897 ,  0.66345515,  0.98570622,  0.9113386 ,  0.55143968,\n",
       "        0.36583009,  0.9135541 ,  0.82890072,  0.67339043,  1.00725463,\n",
       "        0.82989132,  0.56757944,  0.76080966,  1.00777226,  1.02700456,\n",
       "        0.70599877,  0.75680602,  1.11534158,  0.81101516,  0.90167972,\n",
       "        0.95453267,  0.98711663,  0.91231062,  0.82796265,  0.89846709,\n",
       "        0.86398966,  1.04657123,  0.72262573,  1.13451387,  0.82008958,\n",
       "        0.40717971,  1.05465065,  1.11949252,  0.98433201,  0.52523333,\n",
       "        0.58318613,  0.78761007,  0.70047466,  0.60129788,  1.17396666,\n",
       "        0.56745276,  0.73526586,  0.98477144,  0.59635559,  0.94462793,\n",
       "        0.96423828,  0.86619245,  0.82305942,  0.83351828,  1.07153614,\n",
       "        0.94442122,  0.56961404,  0.82328875,  0.99141259,  0.66007428,\n",
       "        0.73264613,  1.02866594,  0.92305981,  0.64654772,  1.14154465,\n",
       "        0.93225675,  0.54057379,  1.15735898,  0.8496101 ,  1.01867369,\n",
       "        1.14445518,  0.98715162,  1.03512689,  0.83684117,  0.81182927,\n",
       "        0.28207213,  0.72819954,  0.83941685,  1.14985659,  0.90946339,\n",
       "        0.76756277,  0.80356872,  1.11572713,  0.72607133,  1.19209494,\n",
       "        0.91724794,  0.831515  ,  0.68968662,  1.08266907,  1.21515338,\n",
       "        0.658008  ,  0.92562113,  0.9880709 ,  0.99981067,  0.7994935 ,\n",
       "        0.62545027,  0.79699332,  0.93954312,  0.86667151,  0.79460159,\n",
       "        0.84610939,  0.85649612,  0.99101437,  0.80113114,  0.9214985 ,\n",
       "        0.33293731,  1.29058911,  0.79958993,  0.92419257,  0.56636314,\n",
       "        0.91646089,  0.75264059,  0.94426253,  0.9067848 ,  0.84485449,\n",
       "        0.62808628,  1.06329947,  0.887096  ,  1.08058534,  1.16031827,\n",
       "        0.99066628,  0.62432657,  0.84290388,  1.11731166,  0.45297063,\n",
       "        1.21646002,  0.8491382 ,  0.74559326,  0.85336998,  0.70652275,\n",
       "        1.0274895 ,  0.89671683,  0.62242304,  0.55390036,  0.51833523,\n",
       "        0.83154014,  0.63016333,  0.82457027,  0.85086593,  1.25623053,\n",
       "        0.5833454 ,  0.79325522,  1.0080435 ,  0.70472518,  1.27207417,\n",
       "        0.98246243,  0.80534195,  1.14595423,  0.49121266,  1.31242334,\n",
       "        0.71139023,  0.87594858,  0.63855872,  0.79615078,  0.98346628,\n",
       "        0.53212919,  0.8823579 ,  1.33992434,  0.96797752,  0.95337159,\n",
       "        0.7167782 ,  1.14853038,  0.8009559 ,  0.88934068,  0.5531664 ,\n",
       "        0.98021016,  0.8705963 ,  1.07883666,  1.10545178,  1.1863341 ,\n",
       "        0.83299767,  0.66018217,  1.17978838,  0.68058412,  0.65892321,\n",
       "        0.44373964,  0.75719134,  0.73107577,  0.64592591,  0.71271315,\n",
       "        0.55704237,  0.86182239,  1.15271708,  1.02939957,  0.42680809,\n",
       "        1.30282762,  1.0595384 ,  1.11656987,  0.78458217,  1.21901058,\n",
       "        1.13403912,  0.94931654,  1.29299453,  1.06186548,  0.69370761,\n",
       "        1.01229653,  0.8653906 ,  0.84050672,  0.50857256,  0.94882674])"
      ]
     },
     "execution_count": 74,
     "metadata": {},
     "output_type": "execute_result"
    }
   ],
   "source": [
    "Y_pred"
   ]
  },
  {
   "cell_type": "markdown",
   "id": "296760ca-c11a-44c4-abeb-d5c43d81f62d",
   "metadata": {},
   "source": [
    "# F - Statistics"
   ]
  },
  {
   "cell_type": "code",
   "execution_count": 76,
   "id": "95ae0c14-4e07-48fc-ae85-c696f8b84d58",
   "metadata": {},
   "outputs": [],
   "source": [
    "n = len(Y_test)  \n",
    "p = X_train.shape[1]"
   ]
  },
  {
   "cell_type": "code",
   "execution_count": 77,
   "id": "ab5be85e-11c5-476e-b17f-c5ce1e885f13",
   "metadata": {},
   "outputs": [
    {
     "data": {
      "text/plain": [
       "300"
      ]
     },
     "execution_count": 77,
     "metadata": {},
     "output_type": "execute_result"
    }
   ],
   "source": [
    "n"
   ]
  },
  {
   "cell_type": "code",
   "execution_count": 78,
   "id": "f7193547-067b-42fa-bd6a-af8450699556",
   "metadata": {},
   "outputs": [
    {
     "data": {
      "text/plain": [
       "8"
      ]
     },
     "execution_count": 78,
     "metadata": {},
     "output_type": "execute_result"
    }
   ],
   "source": [
    "p\n"
   ]
  },
  {
   "cell_type": "code",
   "execution_count": 79,
   "id": "010f397e-2af7-47fc-8643-6a4fad754210",
   "metadata": {},
   "outputs": [],
   "source": [
    "RSS = np.sum((Y_test - Y_pred) ** 2)"
   ]
  },
  {
   "cell_type": "code",
   "execution_count": 80,
   "id": "727d1142-8515-47f6-9b5d-fa17086221a5",
   "metadata": {},
   "outputs": [
    {
     "data": {
      "text/plain": [
       "22.49051986927781"
      ]
     },
     "execution_count": 80,
     "metadata": {},
     "output_type": "execute_result"
    }
   ],
   "source": [
    "RSS"
   ]
  },
  {
   "cell_type": "code",
   "execution_count": 81,
   "id": "c552201d-afca-42d9-9201-47be323f5b09",
   "metadata": {},
   "outputs": [],
   "source": [
    "TSS = np.sum((Y_test - np.mean(Y_test)) ** 2)"
   ]
  },
  {
   "cell_type": "code",
   "execution_count": 82,
   "id": "e516d558-ce6f-4a70-a9b9-945358340172",
   "metadata": {},
   "outputs": [
    {
     "data": {
      "text/plain": [
       "42.33"
      ]
     },
     "execution_count": 82,
     "metadata": {},
     "output_type": "execute_result"
    }
   ],
   "source": [
    "TSS"
   ]
  },
  {
   "cell_type": "code",
   "execution_count": 83,
   "id": "589f3b8e-af43-441b-a29b-6ef920f0cec6",
   "metadata": {},
   "outputs": [],
   "source": [
    "ESS = TSS - RSS"
   ]
  },
  {
   "cell_type": "code",
   "execution_count": 84,
   "id": "958a2e4b-7c04-4eb5-b335-3c5dcbd15287",
   "metadata": {},
   "outputs": [
    {
     "data": {
      "text/plain": [
       "19.839480130722187"
      ]
     },
     "execution_count": 84,
     "metadata": {},
     "output_type": "execute_result"
    }
   ],
   "source": [
    "ESS"
   ]
  },
  {
   "cell_type": "code",
   "execution_count": 85,
   "id": "95065d87-38a5-4b9f-815f-08813a26b167",
   "metadata": {},
   "outputs": [],
   "source": [
    "MSE = RSS / (n - p - 1)"
   ]
  },
  {
   "cell_type": "code",
   "execution_count": 86,
   "id": "5f3e66ce-479a-4b1b-90dc-77c89315e6e1",
   "metadata": {},
   "outputs": [
    {
     "data": {
      "text/plain": [
       "0.0772870098600612"
      ]
     },
     "execution_count": 86,
     "metadata": {},
     "output_type": "execute_result"
    }
   ],
   "source": [
    "MSE"
   ]
  },
  {
   "cell_type": "code",
   "execution_count": 87,
   "id": "be146fbd-d3be-4194-8f94-46e97124089f",
   "metadata": {},
   "outputs": [],
   "source": [
    "MSR = ESS / p"
   ]
  },
  {
   "cell_type": "code",
   "execution_count": 88,
   "id": "7d04be92-7f05-4b0a-ad45-5f2e03671a63",
   "metadata": {},
   "outputs": [
    {
     "data": {
      "text/plain": [
       "2.4799350163402734"
      ]
     },
     "execution_count": 88,
     "metadata": {},
     "output_type": "execute_result"
    }
   ],
   "source": [
    "MSR"
   ]
  },
  {
   "cell_type": "code",
   "execution_count": 89,
   "id": "ef649ed8-4566-4bea-8370-ef0b68e468ed",
   "metadata": {},
   "outputs": [],
   "source": [
    "F_statistic = MSR / MSE"
   ]
  },
  {
   "cell_type": "code",
   "execution_count": 90,
   "id": "69ef4e72-233a-4098-9978-3317ee8e0063",
   "metadata": {},
   "outputs": [],
   "source": [
    "p_value = 1 - stats.f.cdf(F_statistic, p, n - p - 1)"
   ]
  },
  {
   "cell_type": "code",
   "execution_count": 91,
   "id": "a452a72c-a863-4072-bedb-558f884e3d20",
   "metadata": {},
   "outputs": [
    {
     "name": "stdout",
     "output_type": "stream",
     "text": [
      "F-statistic: 32.08734586614928\n",
      "p-value: 1.1102230246251565e-16\n"
     ]
    }
   ],
   "source": [
    "print('F-statistic:', F_statistic)\n",
    "print('p-value:', p_value)"
   ]
  },
  {
   "cell_type": "code",
   "execution_count": 92,
   "id": "3ebd9636-f12f-4080-b044-f6b1af555091",
   "metadata": {},
   "outputs": [
    {
     "name": "stdout",
     "output_type": "stream",
     "text": [
      "null hypothesis rejected\n"
     ]
    }
   ],
   "source": [
    "if result.pvalue < 0.05:\n",
    "    print(\"null hypothesis rejected\")\n",
    "else:\n",
    "    print(\"null hypothesis accepted\")\n",
    "    "
   ]
  },
  {
   "cell_type": "markdown",
   "id": "bbf5d052-ae83-4841-941a-9c5cd16ce63f",
   "metadata": {},
   "source": [
    "# conclusion"
   ]
  },
  {
   "cell_type": "markdown",
   "id": "538b1e62-ae80-4bf0-bb35-d27ae7efd81b",
   "metadata": {},
   "source": [
    "* Female students showed higher writing scores compared to males.\n",
    "\n",
    "* Students with standard lunch and higher parental education levels performed better.\n",
    "\n",
    "* Hypothesis tests confirmed statistically significant differences across several groups.\n",
    "\n",
    "* Machine learning models effectively predicted student performance from cleaned data.\n",
    "\n",
    "* The project demonstrates the power of combining statistics and ML in educational analysis.\n",
    "\n",
    "* Findings can support data-driven decisions in educational policy and interventions."
   ]
  },
  {
   "cell_type": "code",
   "execution_count": null,
   "id": "6d5dd68e-19dd-4906-a3f4-5f6b63a2510d",
   "metadata": {},
   "outputs": [],
   "source": []
  }
 ],
 "metadata": {
  "kernelspec": {
   "display_name": "Python 3 (ipykernel)",
   "language": "python",
   "name": "python3"
  },
  "language_info": {
   "codemirror_mode": {
    "name": "ipython",
    "version": 3
   },
   "file_extension": ".py",
   "mimetype": "text/x-python",
   "name": "python",
   "nbconvert_exporter": "python",
   "pygments_lexer": "ipython3",
   "version": "3.12.4"
  }
 },
 "nbformat": 4,
 "nbformat_minor": 5
}
